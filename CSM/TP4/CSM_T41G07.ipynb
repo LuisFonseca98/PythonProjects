{
 "cells": [
  {
   "cell_type": "markdown",
   "metadata": {},
   "source": [
    "<img src=\"http://gi-mosm.dem.isel.pt/compdrill/img/logo_isel.png\" style=\"width:300px; float: right; margin: 0 40px 40px 40px;\"></img>\n",
    "\n",
    "### Instituto Superior de Engenharia de Lisboa\n",
    "### Licenciatura Em Informática e Multimétia\n",
    "# Codificação de Sinais Multimédia\n",
    "\n",
    "## TRABALHO PRÁTICO 4\n",
    "\n",
    "Trabalho realizado por:\n",
    "* Luís Fonseca    - 45125\n",
    "* João Rodrigues  - 45145\n",
    "* Rodrigo Matela  - 46316\n",
    "\n",
    "*Turma 41D*"
   ]
  },
  {
   "cell_type": "markdown",
   "metadata": {},
   "source": [
    "![purple-divider](https://user-images.githubusercontent.com/7065401/52071927-c1cd7100-2562-11e9-908a-dde91ba14e59.png)\n",
    "\n",
    "## Índice\n",
    "\n",
    "-> [Introdução](#introducao)<br/>\n",
    "-> [Exercício 1](#ex1)<br/>\n",
    "-> [Exercício 2](#ex2)<br/>\n",
    "-> [Exercício 3](#ex3)<br/>\n",
    "-> [Conclusão](#conclusao)<br/>\n",
    "-> [Bibliografia](#bibliografia)"
   ]
  },
  {
   "cell_type": "markdown",
   "metadata": {},
   "source": [
    "![purple-divider](https://user-images.githubusercontent.com/7065401/52071927-c1cd7100-2562-11e9-908a-dde91ba14e59.png)\n",
    "\n",
    "## Introdução <a name=\"introducao\"/>\n",
    "O quarto e último trabalho prático da disciplina de Codificação de Sinais Multimédia tem como objetivo os príncipios básicoas da codificação de vídeo.\n",
    "\n",
    "Um vídeo é composto por um conjunto de imagens, que ao serem percorridas a a um certo ritmo produzem um vídeo. Estas iamgens, no contexto do problema denomonam-se <b>frames</b>\n",
    "\n",
    "Assim sendo, existem 2 modos de codificar as frames:\n",
    "<ul>\n",
    "    <li><b>Intraframe</b></li>\n",
    "    <li><b>Interframe</b></li>\n",
    "</ul>\n",
    "A codificação <b>Intraframe</b> consiste em codificar cada frame de modo individual, como se cada uma das frames fosse uma imagem, no formato jpeg. Neste caso verifica-se ainda o fenómeno de redudância temporal, uma vez que a diferença entre dois frames seguidos é, muitas vezes, mínima.\n",
    "\n",
    "Assim sendo, surge o conceito de codificação <b>Interframe</b>. Nesta codificação uma das frames é codificada como se fosse uma imagem normal. As seguintes imagens no entanto ficarão dependentes da codificação da primeira. É realizado o cálculo da diferença entre as imagens seguintes e a primeira imagem codificada, resultando o valor da diferença entra cada píxel das imagens avaliadas. Seguidamente é realizada a codificação das diferenças. No recetor é realizada a soma entre a primeira frame e o resultado da diferença anteriormente calculado. Deste processo resultará uma imagem semelhante à oroginal, dada uma maior compressão da imagem.\n",
    "\n",
    "Com isto o objetivo do trabalho consiste em introduzir as bases e os princípios básicos da codificação de vídeo através da implementação de 3 codificadores.\n",
    "\n",
    "Para tal foi requisitado a elaboração de uma codificação intraframe, bem como interframe, sem compensação de movimento e o mesmo com compensação de movimento.\n",
    "\n",
    "Foram também pedidos s seguintes requistos a cada codificador:\n",
    "<ul>\n",
    "    <li><b>Taxa de Compressão</b></li>\n",
    "    <li><b>SNR</b></li>\n",
    "    <li><b>Entropia da frame a transmitir</b></li>\n",
    "    <li><b>A energia média por pixel da frame a transmitir</b></li>\n",
    "    <li><b>O tempo de compressão e descompressão</b></li>\n",
    "</ul>    \n",
    "\n",
    "No final desta implementação, é feito um estudo dos resultados obtidos, e o que querem dizer no contexto deste tema."
   ]
  },
  {
   "cell_type": "markdown",
   "metadata": {},
   "source": [
    "Para a realização do trabalho, foi necessário importar algumas bibliotecas, já mencionadas nos trabalhos passados, pelo que não vale a pena realizar uma explicação mais aprofundada das mesmas:"
   ]
  },
  {
   "cell_type": "code",
   "execution_count": 2,
   "metadata": {},
   "outputs": [],
   "source": [
    "import numpy as np\n",
    "import matplotlib.pyplot as plt\n",
    "import cv2\n",
    "import os\n",
    "import re"
   ]
  },
  {
   "cell_type": "markdown",
   "metadata": {},
   "source": [
    "![green-divider](https://user-images.githubusercontent.com/7065401/52071924-c003ad80-2562-11e9-8297-1c6595f8a7ff.png)\n",
    "\n",
    "## Exercício 1<a name=\"ex1\"/>"
   ]
  },
  {
   "cell_type": "markdown",
   "metadata": {},
   "source": [
    "\n"
   ]
  },
  {
   "cell_type": "markdown",
   "metadata": {},
   "source": [
    "![green-divider](https://user-images.githubusercontent.com/7065401/52071924-c003ad80-2562-11e9-8297-1c6595f8a7ff.png)\n",
    "\n",
    "## Exercício 2<a name=\"ex2\"/>\n",
    "Neste exercício era pedido que fosse realizado uma função (codificador) "
   ]
  },
  {
   "cell_type": "markdown",
   "metadata": {},
   "source": [
    "![green-divider](https://user-images.githubusercontent.com/7065401/52071924-c003ad80-2562-11e9-8297-1c6595f8a7ff.png)\n",
    "\n",
    "## Exercício 3<a name=\"ex3\"/>\n",
    "\n",
    "No exercício 3, "
   ]
  },
  {
   "cell_type": "markdown",
   "metadata": {},
   "source": [
    "![purple-divider](https://user-images.githubusercontent.com/7065401/52071927-c1cd7100-2562-11e9-908a-dde91ba14e59.png)\n",
    "\n",
    "## Conclusão<a name=\"conclusao\"/>\n",
    "\n",
    "Com a realização do trabalho, e os resultados obtidos analisados, podemos concluir que o trabalho foi implementado com sucesso. Foi explicado todo o racíocínio seguido de modo a concluir a implementação desejada de modo bem\n",
    "sucedida, bem como os resultados obtidos para cada implementação adotada.\n",
    "<p>\n",
    "Dado o facto de todo o trabalho estar exposto de modo modelado, a sua implementação é simplificada e sequencial. Aplicando alguns métodos codificadores de imagem usados no trabalho prático anterior e alguns métodos estudados na sequência deste trabalho, todas as implementações apresentam resultados satisfatórios de compressão de imagem.\n",
    "\n",
    "\n"
   ]
  },
  {
   "cell_type": "markdown",
   "metadata": {},
   "source": [
    "![purple-divider](https://user-images.githubusercontent.com/7065401/52071927-c1cd7100-2562-11e9-908a-dde91ba14e59.png)\n",
    "\n",
    "## Bibliografia<a name=\"bibliografia\"/>\n",
    "-> Slides fornecidos pelos docentes da disciplina<br>\n"
   ]
  }
 ],
 "metadata": {
  "kernelspec": {
   "display_name": "Python 3",
   "language": "python",
   "name": "python3"
  },
  "language_info": {
   "codemirror_mode": {
    "name": "ipython",
    "version": 3
   },
   "file_extension": ".py",
   "mimetype": "text/x-python",
   "name": "python",
   "nbconvert_exporter": "python",
   "pygments_lexer": "ipython3",
   "version": "3.8.3"
  }
 },
 "nbformat": 4,
 "nbformat_minor": 4
}
