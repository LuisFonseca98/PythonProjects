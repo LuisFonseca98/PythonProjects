{
 "cells": [
  {
   "cell_type": "markdown",
   "metadata": {},
   "source": [
    "<img src=\"http://gi-mosm.dem.isel.pt/compdrill/img/logo_isel.png\" style=\"width:300px; float: right; margin: 0 40px 40px 40px;\"></img>\n",
    "\n",
    "### Instituto Superior de Engenharia de Lisboa\n",
    "### Licenciatura Em Informática e Multimética\n",
    "# Codificação de Sinais Multimédia\n",
    "\n",
    "## TRABALHO PRÁTICO 1\n",
    "\n",
    "Trabalho realizado por:\n",
    "* Luís Fonseca    - 45125\n",
    "* João Rodrigues  - 45145\n",
    "* Rodrigo Matela  - 46316\n",
    "\n",
    "*Turma 41D*"
   ]
  },
  {
   "cell_type": "markdown",
   "metadata": {},
   "source": [
    "![purple-divider](https://user-images.githubusercontent.com/7065401/52071927-c1cd7100-2562-11e9-908a-dde91ba14e59.png)\n",
    "\n",
    "## Introdução\n",
    "\n",
    "Este primeiro trabalho prático da cadeira de Codificação de Sinais Multimédia foca-se nas primeiras matérias lécionadas, que são, respetivamente, o uso da biblioteca *`OpenCV`*, biblioteca esta que nos permite utilizar, manipular e processar vários formatos de ficheiros de imagens em Python.\n",
    "\n",
    "Foram ainda abordadas as matérias referentes à Taxa de Compressão, ao SNR ao PSNR, bem como uma forma de ruído digital designado por Dithering, que vai ser abordado ao longo do trabalho prático.\n",
    "\n",
    "Por fim, foram utilizadas mais duas bibliotecas, `Numpy`, para uso de cálculos, `Matplotlib`, para realizar gráficos e histogramas, bibliotecas estas que já vimos utilizando em todas as cadeiras de Sinais (PDS e CPS). A imagem utilizada neste trabalho, tal como em todas as cadeiras de sinais lecionadas até ao momento, é a imagem *`lenac.tif`*, e é a partir desta imagem que todo o trabalho vai ser desenvolvido.\n",
    "\n",
    "Este primeiro trabalho prático, apesar de concluído, foi um algo desafiante perante todos os incovenientes que surgiram e pela falta de apoio devido ao encerramento da faculdade.\n",
    "\n",
    "\n",
    "<img src=\"https://i.imgur.com/VUL29fb.png\" style=\"width: 800px; margin: 0 40px 40px 40px;\"></img>"
   ]
  },
  {
   "cell_type": "markdown",
   "metadata": {},
   "source": [
    "![green-divider](https://user-images.githubusercontent.com/7065401/52071924-c003ad80-2562-11e9-8297-1c6595f8a7ff.png)\n",
    "\n",
    "## Exercício 1\n",
    "\n",
    "Para este primeiro exercício era necessária a utilização da biblioteca *`OpenCV`*, como já referido, biblioteca que nos vai permitir então trabalhar com o ficheiro de imagem *`lenac.tif`*, e é pedido para abrir o ficheiro, e para apresentar o mesmo.\n",
    "\n",
    "Primeiramente, vamos realizar os imports que vão ser necessários ao longo do projeto: Biblioteca OpenCV, Numpy e MatplotLib:"
   ]
  },
  {
   "cell_type": "code",
   "execution_count": 2,
   "metadata": {},
   "outputs": [],
   "source": [
    "import cv2\n",
    "import numpy as np\n",
    "import matplotlib.pyplot as plt"
   ]
  },
  {
   "cell_type": "markdown",
   "metadata": {},
   "source": [
    "De seguida, para se poder abrir o ficheiro e visualizar o ficheiro de imagem, é utilizado o seguinte código, tendo por base a biblioteca *`OpenCV`*:"
   ]
  },
  {
   "cell_type": "code",
   "execution_count": 3,
   "metadata": {},
   "outputs": [],
   "source": [
    "x_img = cv2.imread(\"lenac.tif\")\n",
    "cv2.imshow('Original Image', x_img)\n",
    "\n",
    "cv2.waitKey(0)\n",
    "cv2.destroyAllWindows()"
   ]
  },
  {
   "cell_type": "markdown",
   "metadata": {},
   "source": [
    "O código `cv2.imread` permite a abertura/leitura de um ficheiro de imagem em Python, e o código `cv2.imshow` permite a visualização do mesmo.\n",
    "Porém, apenas o código para visualizar a imagem não é suficiente, pois é necessário o mesmo ser seguido por duas instruções:\n",
    "\n",
    "* `cv2.waitKey(0)`, que permite a visualização infinitamente da imagem, até que alguma tecla seja pressionada (caso não fosse 0, mas outro número, como exemplo 25, a imagem seria visualizada durante 25 ms, após os quais a janela se fecharia automaticamente);\n",
    "\n",
    "* `cv2.destroyAllWindows()`, que permite fechar a janela com qualquer tecla, quando esta for pressionada."
   ]
  },
  {
   "cell_type": "markdown",
   "metadata": {},
   "source": [
    "Para finalizar o exercício, eram ainda fornecidas 2 linhas de código:"
   ]
  },
  {
   "cell_type": "code",
   "execution_count": 4,
   "metadata": {},
   "outputs": [
    {
     "name": "stdout",
     "output_type": "stream",
     "text": [
      "uint8\n",
      "(512, 512, 3)\n"
     ]
    }
   ],
   "source": [
    "print(x_img.dtype)\n",
    "print(x_img.shape)"
   ]
  },
  {
   "cell_type": "markdown",
   "metadata": {},
   "source": [
    "E era pedido para explicar a funcionalidade dos métodos `dtype` e `shape`.\n",
    "\n",
    "* ***dtype*** - é utilizado para indicar o data type da imagem. Quanto maior o data type, melhor a qualidade da imagem, pois tem um maior range de cores.\n",
    "\n",
    "* ***shape*** - indica as propriedades da imagem (retorna um tuplo com o número de linhas, colunas e canais - se a imagem tiver cor)"
   ]
  },
  {
   "cell_type": "markdown",
   "metadata": {},
   "source": [
    "![green-divider](https://user-images.githubusercontent.com/7065401/52071924-c003ad80-2562-11e9-8297-1c6595f8a7ff.png)\n",
    "\n",
    "## Exercício 2\n",
    "\n",
    "Para este exercício, foi pedido que fosse gravada a imagem original num diferente formato, neste caso foi utilizado o formato `jpeg`.\n",
    "Para realizar a gravação de uma imagem, é utilizado o método `cv2.write`, que recebe como argumentos o título da imagem, com o formato que se deseja adquirir, a imagem a ser gravada, e ainda um terceiro argumento da biblioteca `OpenCV`, \"*IMWRITE_JPEG_QUALITY*\". Este método pega numa imagem e aplica-lhe uma qualidade, em percentagem (de máximo 100%). Para o exercício foi aplicada 80% e 10%.\n",
    "\n",
    "As duas linhas seguintes de código foram as usadas para obter as duas imagens em formato `jpeg`:"
   ]
  },
  {
   "cell_type": "code",
   "execution_count": 5,
   "metadata": {},
   "outputs": [
    {
     "data": {
      "text/plain": [
       "True"
      ]
     },
     "execution_count": 5,
     "metadata": {},
     "output_type": "execute_result"
    }
   ],
   "source": [
    "cv2.imwrite('file1.jpg', x_img, (cv2.IMWRITE_JPEG_QUALITY, 80))\n",
    "cv2.imwrite('file2.jpg', x_img, (cv2.IMWRITE_JPEG_QUALITY, 10))"
   ]
  },
  {
   "cell_type": "markdown",
   "metadata": {},
   "source": [
    "Seguem-se as imagens convertidas para formato `jpeg` que foram obtidas através do código acima:"
   ]
  },
  {
   "cell_type": "markdown",
   "metadata": {},
   "source": [
    "<center>Imagem jpeg com qualidade com percentagem 80%:</center>\n",
    "\n",
    "<center><img src=\"https://i.imgur.com/rmBlvX4.jpg\" width=\"250px\"></center>\n",
    "\n",
    "<center>Imagem jpeg com qualidade com percentagem 10%:</center>\n",
    "<center><img src=\"https://i.imgur.com/S7zgYoz.jpg\" width=\"250px\"></center>"
   ]
  },
  {
   "cell_type": "markdown",
   "metadata": {},
   "source": [
    "Segue-se ainda uma comparação entre a imagem original em formato `tif` (à esquerda) e a imagem `jpeg` (à direita):"
   ]
  },
  {
   "cell_type": "markdown",
   "metadata": {},
   "source": [
    "<center>Imagem tif à esquerda e imagem jpeg com qualidade de percentagem 80%:</center>\n",
    "\n",
    "<center><img src=\"https://i.imgur.com/LkORccW.png\" width=\"450px\"></center>\n",
    "\n",
    "<center>Imagem tif à esquerda e imagem jpeg com qualidade de percentagem 10%:</center>\n",
    "<center><img src=\"https://i.imgur.com/q3wzn04.png\" width=\"450px\"></center>"
   ]
  },
  {
   "cell_type": "markdown",
   "metadata": {},
   "source": [
    "Após a gravação das imagens em `jpeg`, e da comparação entre a original e as mesmas, pode verificar-se que existe perda de qualidade, e, portanto, diminuição do tamanho do ficheiro. Para verificar as diferenças entre as imagens (`taxa de compressão, SNR e PSNR`) em Python, foi utilizado o seguinte código:"
   ]
  },
  {
   "cell_type": "code",
   "execution_count": 8,
   "metadata": {},
   "outputs": [],
   "source": [
    "import os\n",
    "\n",
    "def compressionRate(img1name, img2name):\n",
    "    \n",
    "    sizeO = os.path.getsize(img1name)\n",
    "    sizeA = os.path.getsize(img2name)\n",
    "    taxaCompressao = sizeO/sizeA\n",
    "    \n",
    "    return taxaCompressao\n",
    "    \n",
    "def PSNR(pic1,pic2):\n",
    "\n",
    "    MSE = np.mean((pic1.astype(\"uint8\") - pic2.astype(\"uint8\")) ** 2 )\n",
    "    pixMAX = 255.0\n",
    "    return 20*np.log10(pixMAX) - 10*np.log10(MSE)\n",
    "\n",
    "def SNR(img1,img2):\n",
    "    Psinal = np.sum(np.sum((img2*1.0)**2))\n",
    "    Perro = (np.sum(np.sum(((img2*1.0)-(img1*1.0))**2)))\n",
    "    return 10*np.log10(Psinal/Perro)"
   ]
  },
  {
   "cell_type": "markdown",
   "metadata": {},
   "source": [
    "Para calcular a taxa de compressão entre dois ficheiros, é necessário utilizar a biblioteca `os`. Depois, basta executar a divisão entre o ficheiro original e o ficheiro novo e verificar qual a taxa de compressão.\n",
    "\n",
    "Para o SNR, foi utilizada a fórmula `10log10(Psinal/Perro)`. A potência do sinal e do erro foram calculadas externamente através das fórmulas acima. O PSNR *(peak signal-to-noise ratio)* é mais facilmente definido através do MSE *(mean squared error)*, pelo que se foi calcular o mesmo, para depois ser utilizado na fórmula final.\n",
    "\n",
    "Estando a maneira de calcular estas 3 variáveis definida, fomos então obter os valores concretos da taxa de compressão, SNR e PSNR:"
   ]
  },
  {
   "cell_type": "code",
   "execution_count": 9,
   "metadata": {},
   "outputs": [
    {
     "name": "stdout",
     "output_type": "stream",
     "text": [
      "SNR lenac.tif -> file1.jpg (jpg80): 28.27406107288294\n",
      "SNR lenac.tif -> file2.jpg (jpg10): 22.2094180678214\n",
      "\n",
      "TAXA DE COMPRESSAO lenac.tif -> file1.jpg (jpg80): 17.763845302869527\n",
      "TAXA DE COMPRESSAO lenac.tif -> file2.jpg (jpg10): 82.33717036416911\n",
      "\n",
      "PSNR lenac.tif -> file1.jpg (jpg80): 34.396097488682855\n",
      "PSNR lenac.tif -> file2.jpg (jpg10): 30.69811939599407\n"
     ]
    }
   ],
   "source": [
    "# ---------- SNR ------------\n",
    "    \n",
    "imgjpg1 = cv2.imread('file1.jpg')\n",
    "imgjpg2 = cv2.imread('file2.jpg')\n",
    "     \n",
    "SNR1 = SNR(x_img, imgjpg1)\n",
    "SNR2 = SNR(x_img, imgjpg2)\n",
    "print(\"SNR lenac.tif -> file1.jpg (jpg80): \" + str(SNR1))\n",
    "print(\"SNR lenac.tif -> file2.jpg (jpg10): \" + str(SNR2))\n",
    "print()\n",
    "\n",
    "# ---------- TAXA COMPRESSAO ---------\n",
    "  \n",
    "taxaCompressao1 = compressionRate('lenac.tif', 'file1.jpg')\n",
    "taxaCompressao2 = compressionRate('lenac.tif', 'file2.jpg')\n",
    "\n",
    "print(\"TAXA DE COMPRESSAO lenac.tif -> file1.jpg (jpg80): \" + str(taxaCompressao1))\n",
    "print(\"TAXA DE COMPRESSAO lenac.tif -> file2.jpg (jpg10): \" + str(taxaCompressao2))\n",
    "print()\n",
    "\n",
    "# ---------- PSNR ---------\n",
    " \n",
    "PSNR1 = PSNR(x_img, imgjpg1)\n",
    "PSNR2 = PSNR(x_img, imgjpg2)\n",
    "print(\"PSNR lenac.tif -> file1.jpg (jpg80): \" + str(PSNR1))\n",
    "print(\"PSNR lenac.tif -> file2.jpg (jpg10): \" + str(PSNR2))"
   ]
  },
  {
   "cell_type": "markdown",
   "metadata": {},
   "source": [
    "Como podemos observar pelos resultados obtidos, o SNR entre o ficheiro de imagem com 10% de qualidade jpeg e o ficheiro original é mais pequeno, pelo que possui mais ruído. O que possui 80% de qualidade jpeg possui um SNR maior, pelo que possui menos ruído (o que é confirmado na prática).\n",
    "\n",
    "Em relação à taxa de compressão, é bem maior a compressão entre a imagem original e a imagem jpeg com 10% qualidade, do que a imagem jpeg 80%, pois a imagem com 10% qualidade possui muito menos qualidade que a imagem de 80% qualidade, sendo que o tamanho do ficheiro fica bastante reduzido em relação não só ao ficheiro original, mas também ao próprio ficheiro jpeg com 80% qualidade. "
   ]
  },
  {
   "cell_type": "markdown",
   "metadata": {},
   "source": [
    "![green-divider](https://user-images.githubusercontent.com/7065401/52071924-c003ad80-2562-11e9-8297-1c6595f8a7ff.png)\n",
    "\n",
    "## Exercício 3\n",
    "\n",
    "Para este exercíco foi pedido que convertesse-mos a imagem original para uma imagem Grayscale. Uma imagem Grayscale é uma imagem composta por níveis de cinzento, variando entre o preto com menor intensidade e o branco com maior intensidade.\n",
    "\n",
    "Neste tipo de imagem, o valor de cada pixel é um espaço de amostra que representa o valor do brilho entre preto e branco, e para o \n",
    "cálculo desse valor é usado o algoritmo: `(Y=R∗299/1000+G∗587/1000+B∗114/1000)`, estando este relacionado com a sensibilidade visual do olho humano para cores primárias.\n",
    "\n",
    "Para a conversão da imagem, utilizámos o método `cv2.cvtColor`, que respeita a fórmula mencionada em cima, passando-lhe dois argumentos: o primeiro corresponde à imagem original; o segundo faz a conversão para o efeito grayscale, obtendo uma imagem em tons de preto e branco.\n",
    "\n",
    "É de notar que o ficheiro resultante desta transformação é cerca de três vezes mais pequeno que o ficheiro original.\n",
    "Segue-se o código utilizado para a resolução deste exercício:"
   ]
  },
  {
   "cell_type": "code",
   "execution_count": 22,
   "metadata": {},
   "outputs": [],
   "source": [
    "def obterGreyscale():\n",
    "    x_img_g = cv2.cvtColor(x_img, cv2.COLOR_BGR2GRAY)\n",
    "    return x_img_g\n",
    "\n",
    "def exe3():\n",
    "    x_img_g = obterGreyscale()\n",
    "    cv2.imshow('Gray Image', x_img_g)\n",
    "    cv2.imwrite('file3.bmp', x_img_g)\n",
    "\n",
    "    cv2.waitKey(0)\n",
    "    cv2.destroyAllWindows()\n",
    "exe3()"
   ]
  },
  {
   "cell_type": "markdown",
   "metadata": {},
   "source": [
    "Com o código acima, a imagem a preto e branco fica guardada com o nome `file3.bmp`, e é ainda aberta e mostrada com o código *`cv2.imshow`*"
   ]
  },
  {
   "cell_type": "markdown",
   "metadata": {},
   "source": [
    "![green-divider](https://user-images.githubusercontent.com/7065401/52071924-c003ad80-2562-11e9-8297-1c6595f8a7ff.png)\n",
    "\n",
    "## Exercício 4\n",
    "\n",
    "Neste exercício era pedido para apresentar o histograma da imagem (em tons de cinzento) e verificar quantos tons de cinzento tem a imagem."
   ]
  },
  {
   "cell_type": "code",
   "execution_count": 24,
   "metadata": {},
   "outputs": [
    {
     "name": "stdout",
     "output_type": "stream",
     "text": [
      "Os níveis de cinzento da imagem são: 215\n"
     ]
    },
    {
     "data": {
      "image/png": "[encoded data removed]",
      "text/plain": [
       "<Figure size 432x288 with 1 Axes>"
      ]
     },
     "metadata": {
      "needs_background": "light"
     },
     "output_type": "display_data"
    }
   ],
   "source": [
    "def exe4():\n",
    "    x_img_g = obterGreyscale()\n",
    "    plt.hist(x_img_g.ravel(), 256, [0, 256])\n",
    "    niveisCinzento = np.unique(x_img_g).size\n",
    "    print(\"Os níveis de cinzento da imagem são: \" + str(niveisCinzento))\n",
    "exe4()"
   ]
  },
  {
   "cell_type": "markdown",
   "metadata": {},
   "source": [
    "Como podemos observar, no eixo dos ***`x`*** está representado o número de níveis de cinzento, e no eixo dos ***`y`*** está representado o número de ocorrências de cada nível. Para determinar exatamente os níveis de cinzento foi utilizado o método `np.unique` da biblioteca `Numpy`, que recebe como argumento a imagem em tons de cinza, e retorna todos os valores existentes de cinzento, não havendo repetições entre os mesmos, pelo que para determinar o número de níveis basta obter o tamanho do array, através de `size`."
   ]
  },
  {
   "cell_type": "markdown",
   "metadata": {},
   "source": [
    "Como podemos observar, a imagem em tons de cinzento tem precisamente 215 níveis de cinza, pelo que nenhum deles se aproxima de 0 (totalmente preto) nem 255 (totalmente branco)."
   ]
  },
  {
   "cell_type": "markdown",
   "metadata": {},
   "source": [
    "![green-divider](https://user-images.githubusercontent.com/7065401/52071924-c003ad80-2562-11e9-8297-1c6595f8a7ff.png)\n",
    "\n",
    "## Exercício 5\n",
    "\n",
    "No exercício 5 era pedido para criar 8 novas imagens a partir da imagem `file3.bmp`, ou seja, a imagem original em tons de cinza, obtida na alínea anterior. Neste exercício iniciamos com a imagem a tons de cinza original, sem qualquer ruído, considerando que quando iniciamos o exercício o bit de maior peso é o `2**7`, ou seja, 128. Este bit permite-nos guardar uma grande parte da informação da imagem, conseguindo observar a imagem cinza sem praticamente nenhum ruído, ao contrário dos restantes bits, que vão sendo cada vez de menor peso (e, consequentemente, maior ruído aplicado), até atingir o bit de menor peso (imagem cheia de ruído).\n",
    "\n",
    "Para a realização deste exercício, usámos a operação lógica de interseção (`and`) para pudermos alterar o número de bits. Como era necessário obter 8 imagens, realizámos um ciclo `for` com **8** iterações, que realizasse em cada uma delas, a dita operação lógica `and`. Segue-se o código utilizado:"
   ]
  },
  {
   "cell_type": "code",
   "execution_count": 26,
   "metadata": {},
   "outputs": [],
   "source": [
    "def exe5():\n",
    "    x_img_g = obterGreyscale()\n",
    "    for i in range(8):\n",
    "        img = np.bitwise_and(x_img_g,2**i)\n",
    "        cv2.imshow('BW ' +  str(i), (img * 255).astype(\"uint8\"))\n",
    "        \n",
    "    cv2.waitKey(0)\n",
    "    cv2.destroyAllWindows()\n",
    "exe5()"
   ]
  },
  {
   "cell_type": "markdown",
   "metadata": {},
   "source": [
    "Com a deslocação do bit de maior peso, vamos obtendo, a cada imagem seguinte, sucessivamente maior ruído, até que o ruído na imagem é tanto que a imagem é indecifrável. Esta interceção lógica realiza-se da seguinte maneira: no valor inicial temos o valor binário 100000000, e a cada interseção realizada, o bit a **1** vai ser deslocado para a direita (`shift`), o que vai levar a diminuição do espaço para guardar a imagem, o que por sua vez cria o ruído que se pode observar:"
   ]
  },
  {
   "cell_type": "markdown",
   "metadata": {},
   "source": [
    "<center><img src=\"https://i.imgur.com/BfuHbZN.png\" width=\"800px\"></center>"
   ]
  },
  {
   "cell_type": "markdown",
   "metadata": {},
   "source": [
    "Como podemos observar, da esquerda para a direita, o bit vai aumentando, ficando a imagem cada vez com menos ruído, e sendo mais percetível."
   ]
  },
  {
   "cell_type": "markdown",
   "metadata": {},
   "source": [
    "![green-divider](https://user-images.githubusercontent.com/7065401/52071924-c003ad80-2562-11e9-8297-1c6595f8a7ff.png)\n",
    "\n",
    "## Exercício 6\n",
    "\n",
    "No exercício 6 era pedido para realizar o algoritmo de `Dithering`. O Dithering é uma forma de ruído digital aplicado intencionalmente, e é usado na sua maioria das vezes no processamento de dados em ambos áudio e video. Dithering é uma técnica em que se intercalam píxeis de duas cores diferentes entre duas áreas adjacentes, para no fim criarmos uma tonalidade de tons variantes dessas áreas adjacentes. Este método possibilita-nos a obtenção de tons de cores que, de outra forma, nao se obteriam.\n",
    "\n",
    "Utilizando o método atribuído no enunciado, pudemos chegar ao seguinte código:"
   ]
  },
  {
   "cell_type": "code",
   "execution_count": 27,
   "metadata": {},
   "outputs": [],
   "source": [
    "def dithering(img):\n",
    "    height,width= img.shape\n",
    "    imgFinal = np.zeros(img.shape, np.uint8)\n",
    "    for y in range(height-1):\n",
    "        for x in range(width-1):\n",
    "            oldPixel = img.item(y,x)\n",
    "            newPixel = 255 if oldPixel > 127 else 0\n",
    "            imgFinal.itemset(y,x,newPixel)\n",
    "            erroQuantizado = oldPixel-newPixel\n",
    "            img.itemset(y,x+1,img.item(y,x+1) + erroQuantizado * 7/16)\n",
    "            img.itemset(y+1,x+1,img.item(y+1,x+1) + erroQuantizado * 3/16)\n",
    "            img.itemset(y+1,x,img.item(y+1,x) + erroQuantizado * 5/16)\n",
    "            img.itemset(y+1,x-1,img.item(y+1,x-1) + erroQuantizado * 1/16)\n",
    "    return imgFinal\n",
    "\n",
    "def exe6():\n",
    "    x_img_g = obterGreyscale()\n",
    "    y = dithering(x_img_g)\n",
    "    cv2.imshow('Dither',y)\n",
    "    cv2.waitKey(0)\n",
    "    cv2.destroyAllWindows()\n",
    "    \n",
    "exe6()"
   ]
  },
  {
   "cell_type": "markdown",
   "metadata": {},
   "source": [
    "A imagem que se obteve foi a seguinte:"
   ]
  },
  {
   "cell_type": "markdown",
   "metadata": {},
   "source": [
    "<center><img src=\"https://i.imgur.com/4qH712s.png\" width=\"300px\"></center>"
   ]
  },
  {
   "cell_type": "markdown",
   "metadata": {},
   "source": [
    "Como podemos observar, existe um tipo diferente de ruído na imagem, e o código utilizado segue a fórmula/método atribuído no enunciado (adicionar um determinado valor consoante a vizinhança da posição onde o pixel esteja localizado)."
   ]
  },
  {
   "cell_type": "markdown",
   "metadata": {},
   "source": [
    "![green-divider](https://user-images.githubusercontent.com/7065401/52071924-c003ad80-2562-11e9-8297-1c6595f8a7ff.png)\n",
    "\n",
    "## Exercício 7\n",
    "\n",
    "Neste exercício era pedido que construíssemos uma função que conseguisse gravar a matriz obtida na questão anterior (questão 6 - matriz com Dithering aplicado) para um ficheiro binário. Um ficheiro binário é todo o ficheiro de computador que não está em formato texto. Este pode ser um programa de computador, ficheiro de imagem digital, ficheiro de som, biblioteca compartilhada, arquivo de dados e vários outros arquivos.\n",
    "\n",
    "Pedia ainda para calcular a taxa de compressão, SNR e PSNR.\n",
    "\n",
    "Como um ficheiro binário pode ser qualquer tipo de ficheiro de imagem digital, o grupo decidiu gravar a matriz afetada com Dithering num ficheiro de formato `bmp`. Utilizando as funções de taxa de compressão, SNR e PSNR criadas na alínea 2, fomos também realizar o cálculos de cada um desses parâmetros. Segue-se o código utilizado neste exercício:"
   ]
  },
  {
   "cell_type": "code",
   "execution_count": 29,
   "metadata": {},
   "outputs": [
    {
     "name": "stdout",
     "output_type": "stream",
     "text": [
      "TAXA DE COMPRESSAO lenac.tif -> Dither.bmp: 2.989165039396403\n",
      "SNR lenac.tif -> Dither.bmp: 2.9070702967584587\n",
      "PSNR lenac.tif -> Dither.bmp: 27.838074879920434\n"
     ]
    }
   ],
   "source": [
    "def exe7():\n",
    "    x_img_g = obterGreyscale()\n",
    "    y = dithering(x_img_g)\n",
    "    cv2.imwrite('Dither.bmp', y)\n",
    "    fileDither = cv2.imread('Dither.bmp')\n",
    "    \n",
    "    taxaCompressao = compressionRate('lenac.tif' ,'Dither.bmp')\n",
    "    snr = SNR(x_img, fileDither)\n",
    "    psnr = PSNR(x_img, fileDither)\n",
    "    \n",
    "    print(\"TAXA DE COMPRESSAO lenac.tif -> Dither.bmp: \" + str(taxaCompressao))\n",
    "    print(\"SNR lenac.tif -> Dither.bmp: \" + str(snr))\n",
    "    print(\"PSNR lenac.tif -> Dither.bmp: \" + str(psnr))\n",
    "exe7()"
   ]
  },
  {
   "cell_type": "markdown",
   "metadata": {},
   "source": [
    "Como podemos observar, a taxa de compressão entre a imagem original `lenac.tif` e a imagem em tons de cinza afetada com ruído através do Dithering é de cerca de 2.99 (aproximadamente 3), pelo que a imagem afetada com Dithering é cerca de 3 vezes mais pequena que a original (em termos de tamanho do ficheiro). Em relação ao SNR, possui o SNR muito pequeno, pelo que possui imenso ruído, o que era expectável, uma vez que o ruído foi introduzido intencionalmente em grande escala. O PSNR é ainda 27.84, arredondando às centésimas."
   ]
  },
  {
   "cell_type": "markdown",
   "metadata": {},
   "source": [
    "![green-divider](https://user-images.githubusercontent.com/7065401/52071924-c003ad80-2562-11e9-8297-1c6595f8a7ff.png)\n",
    "\n",
    "## Exercício 8\n",
    "\n",
    "Para o último exercício, era pedido que fosse construída uma função, no qual se gerava uma imagem monocromática, com dimensões 100x100. \n",
    "Para isso foi construído o método de nome “monochromeImage”, que recebe como parâmetros um “ângulo” que permite indicar o número os graus do ângulo pretendido, e “tamanho” para o desenho de uma janela.\n",
    "\n",
    "Dentro deste método foram criadas duas variáveis: “*width*” e “*height*”, que contêm o tamanho da a janela; outra variável de nome “img”, onde vai ser criada a imagem; e outra de nome “radius” que contém a fórmula de cálculo para os ângulos. De seguida, recorremos a dois “for's” que vão percorrer a nossa imagem (visto que a nossa imagem é uma matriz que contém diferentes valores), permitindo assim manipular os valores que se encontram dentro da imagem, convertendo-os para 0(preto) ou 255(branco). \n",
    "Para fazer a mudança de cor dos pixéis, era necessário dividir a imagem em quadrantes, por isso as variáveis “*eixoX*” e “*eixoY*” permitem fazer a divisão da janela em quatro quadrantes (os quais correspondem a cada bloco da nossa matriz onde estão armazenados os valores).\n",
    "\n",
    "Sendo necessário que fosse feito o desenho da cor de cada quadrante, recorreu-se a uma função do numpy “*np.arctan()*”, a qual permite calcular o inverso da tangente (divisão de cosseno sobre seno).\n",
    "\n",
    "Como o arctan não aceita divisões por zero, foi feita uma condição “if”, caso o valor da divisão fosse 0, então o valor do ângulo, por defeito, iria ser de `pi/2`. Para verificar que a cor branca percorria todos os quadrantes, foram realizadas todas as condições, como por exemplo, caso o “*eixoX*” e “*eixoY*” fossem menores que zero, era somado ao valor do ângulo pi. No final da função, sempre que a divisão do ângulo estivesse dentro do intervalo estabelecido, então o valor dos pixéis era convertido para branco. É de salientar que quando colocamos o valor do ângulo a 1 (ou outros valores mais pequenos), no centro da janela, existe o fenómeno aliasing, que consiste num efeito que faz com que sinais diferentes se tornem indistinguíveis quando amostrados."
   ]
  },
  {
   "cell_type": "code",
   "execution_count": 31,
   "metadata": {},
   "outputs": [],
   "source": [
    "def monochromeImg(angulo,tamanho):\n",
    "    width = int(tamanho) \n",
    "    height = int(tamanho) \n",
    "    radius = angulo * np.pi/180.0\n",
    "    img = np.zeros((width,height)) \n",
    "    for x in range(width): \n",
    "        for y in range(height): \n",
    "            eixoX = (float) (x - (width/2))\n",
    "            eixoY = (float) (y - (height/2))\n",
    "            if eixoX == 0: \n",
    "                ang = np.pi/2.\n",
    "                if eixoY < 0: \n",
    "                    ang +=  np.pi \n",
    "            else:\n",
    "                ang = np.arctan(eixoY/eixoX) \n",
    "            if(eixoX < 0) & (eixoY < 0):  \n",
    "                ang=np.arctan(eixoY/eixoX)\n",
    "            if((eixoX < 0) & (eixoY > 0)): \n",
    "                ang += np.pi\n",
    "            if(eixoX > 0)& (eixoY < 0): \n",
    "                ang += 2*np.pi\n",
    "            if(eixoX < 0) & (eixoY < 0): \n",
    "                ang += np.pi\n",
    "                   \n",
    "            for i in range(360//angulo): \n",
    "                if (radius*i*2 <= ang <= radius*(i*2+1) ):\n",
    "                    img[y][x] = 255 \n",
    "    cv2.imshow(\"img\", img)\n",
    "    cv2.waitKey(0)\n",
    "    cv2.destroyAllWindows()\n",
    "    \n",
    "def exe8():\n",
    "\n",
    "    monochromeImg(1,400)\n",
    "    \n",
    "exe8()"
   ]
  },
  {
   "cell_type": "markdown",
   "metadata": {},
   "source": [
    "Segue-se a imagem obtida através do código desenvolvido:"
   ]
  },
  {
   "cell_type": "markdown",
   "metadata": {},
   "source": [
    "<center><img src=\"https://i.imgur.com/eLp27QW.png\" width=\"300px\"></center>"
   ]
  },
  {
   "cell_type": "markdown",
   "metadata": {},
   "source": [
    "![purple-divider](https://user-images.githubusercontent.com/7065401/52071927-c1cd7100-2562-11e9-908a-dde91ba14e59.png)\n",
    "\n",
    "## Conclusão\n",
    "\n",
    "Com a realização deste trabalho prático foram obtidos conhecimentos de métodos e funcionalidades da biblioteca *`OpenCV`*, importantes para o processamento de imagens. O grupo concretizou os objetivos propostos no enunciado, o que facilitou a aprendizagem acerca desta matéria. \n",
    "\n",
    "Conseguimos perceber como é feita a manipulação de imagens, as suas propriedades e os diferentes resultados que podemos obter quando utilizamos os diferentes métodos da biblioteca mencionada. Foi também possível reparar nos diferentes formatos de imagens, e quais aqueles que podem perder ou manter a sua informação. Outro tópico a salientar, é o facto podermos manipular os pixéis de cada imagem, obtendo outro tipo de resultados, como por exemplo, o exercício onde é pedido para construir o algorítmo de Floyd–Steinberg Dithering, ou o exercício onde é pedido para construir uma imagem monocromática, tudo isto à base da manipulação dos pixéis.\n",
    "\n",
    "Resumidamente, todos objetivos foram alcançados dentro dos nossos conhecimentos, surgindo algumas dificuldades na realização/execução dos diferentes exercícios, em certos instantes aquando da realização do trabalho, devido à falta de alguns conhecimentos que ainda não foram abordados, não o tendo sido devido aos últimos acontecimentos que têm ocorrido. Posto isto, o grupo conseguiu adquirir conhecimentos de toda a matéria lecionada, estando preparado para a execução dos próximos trabalhos práticos."
   ]
  }
 ],
 "metadata": {
  "kernelspec": {
   "display_name": "Python 3",
   "language": "python",
   "name": "python3"
  },
  "language_info": {
   "codemirror_mode": {
    "name": "ipython",
    "version": 3
   },
   "file_extension": ".py",
   "mimetype": "text/x-python",
   "name": "python",
   "nbconvert_exporter": "python",
   "pygments_lexer": "ipython3",
   "version": "3.7.4"
  }
 },
 "nbformat": 4,
 "nbformat_minor": 4
}
