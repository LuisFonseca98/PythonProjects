{
 "cells": [
  {
   "cell_type": "markdown",
   "metadata": {},
   "source": [
    "<img src=\"http://gi-mosm.dem.isel.pt/compdrill/img/logo_isel.png\" style=\"width:300px; float: right; margin: 0 40px 40px 40px;\"></img>\n",
    "\n",
    "### Instituto Superior de Engenharia de Lisboa\n",
    "### Licenciatura Em Informática e Multimética\n",
    "# Codificação de Sinais Multimédia\n",
    "\n",
    "## TRABALHO PRÁTICO 2\n",
    "\n",
    "Trabalho realizado por:\n",
    "* Luís Fonseca    - 45125\n",
    "* João Rodrigues  - 45145\n",
    "* Rodrigo Matela  - 46316\n",
    "\n",
    "*Turma 41D*"
   ]
  },
  {
   "cell_type": "markdown",
   "metadata": {},
   "source": [
    "![purple-divider](https://user-images.githubusercontent.com/7065401/52071927-c1cd7100-2562-11e9-908a-dde91ba14e59.png)\n",
    "\n",
    "## Índice\n",
    "\n",
    "-> [Introdução](#introducao)<br/>\n",
    "-> [Exercício 1](#ex1)<br/>\n",
    "-> [Exercício 2](#ex2)<br/>\n",
    "-> [Exercício 4](#ex4)<br/>\n",
    "-> [Exercício 5](#ex5)<br/>\n",
    "-> [Exercício 3 (Ordem trocada de propósito, de modo a facilitar a sua perceção)](#ex3)<br/>\n",
    "-> [Exercício 6](#ex6)<br/>\n",
    "-> [Conclusão](#conclusao)<br/>\n",
    "-> [Bibliografia](#bibliografia)"
   ]
  },
  {
   "cell_type": "markdown",
   "metadata": {},
   "source": [
    "![purple-divider](https://user-images.githubusercontent.com/7065401/52071927-c1cd7100-2562-11e9-908a-dde91ba14e59.png)\n",
    "\n",
    "## Introdução <a name=\"introducao\"/>\n",
    "O segundo trabalho prático da cadeira de Codificacao de Sinais e Multimedia tinha como objetivo  a exploração de conceitos de compressão de dados sem perdas baseados na teoria da informação, para isso foi utilizado os conhecimentos que foram adquiridos acerca dos conteúdos que incidiam sobre a codificação de Huffman.\n",
    "\n",
    "Para isso, usamos este algoritmo no trabalho prático para obter uma codificação sem perdas. Foram implementados vários métodos para a sua realização que iram ser abordados mais à frente. Para testar se a nossa implementação estava correta, procedemos primeiro à codificação de strings, e de seguida, utilizamos a imagem da *`lena.tif`*, com tons de cinzento, e no final foi realizado o cálculo da entropia, número médio de bits, eficiência, e ainda determinámos qual o erro entre a imagem que passou pela codificação de Huffman, e a imagem original, para interpretação dos resultados.\n",
    "\n",
    "Para perceber melhor como o processo deste trabalho prático irá ser realizado, foi elaborado um diagrama contendo todas as fases do trabalho:\n",
    "\n",
    "<center><img src=\"https://i.imgur.com/a7XhzAs.png\"></center>\n",
    "\n",
    "\n",
    "**NOTA:** `A ORDEM PELA QUAL OS EXERCÍCIOS SÃO APRESENTADOS FOI TROCADA DE PROPÓSITO, DE MODO A FACILITAR A EXPLICAÇÃO E PERCEÇÃO DA REALIZAÇÃO DE EXERCÍCIOS ESPECÍFICOS (EXERCÍCIO 3). SENDO ASSIM, O EXERCÍCIO 3 ENCONTRA-SE EXPLICADO DEPOIS DO 4 E DO 5.`"
   ]
  },
  {
   "cell_type": "markdown",
   "metadata": {},
   "source": [
    "![green-divider](https://user-images.githubusercontent.com/7065401/52071924-c003ad80-2562-11e9-8297-1c6595f8a7ff.png)\n",
    "\n",
    "## Exercício 1<a name=\"ex1\"/>\n",
    "\n",
    "Neste exercicio era pedido que fosse realizado o algoritmo de Huffman. Para a realização deste método, foi usado o nome *`gen_huff_table(symbol_list,symbol_prob)`*, recebendo como argumentos *symbol_list*, contento uma lista de símbolos, e o argumento *symbol_prob*, que recebe uma probabilidade de esse simbolo ocorrer, ou o número de ocorrências de cada símbolo, dado pelo seu histograma.\n",
    "\n",
    "A codificação de Huffman é um método de compressão que utiliza as probabilidades de ocorrência dos símbolos no conjunto de dados a comprimir, de modo a determinar códigos de comprimento variável (VLC) para cada símbolo. Este algoritmo é utilizado na compressão de imagens e vídeos.\n",
    "\n",
    "O procedimento para a realização do algoritmo foi:\n",
    "\n",
    "\n",
    "* Colocar os símbolos e respetivas probabilidades/número de ocorrências numa lista;\n",
    "* Ordenar a lista por ordem crescente de probabilidade;\n",
    "* Escolher os dois símbolos com menor frequência/probabilidade e agrupá-los num novo símbolo com probabilidade igual à soma destes dois;\n",
    "* Atribuir 0 e 1 a cada um dos símbolos, consoante o ramo onde se encontrem;\n",
    "* Inserir o novo símbolo na lista ordenada;\n",
    "* Voltar ao ponto 2 até que cada lista tenha apenas um símbolo;\n",
    "* Atribuir códigos partindo do último símbolo criado.\n",
    "\n",
    "\n",
    "Segue-se um exemplo de codificação de Huffman, com os símbolos (1, 2, 3, 4), com ocorrência (20, 10, 3, 3), respetivamente:"
   ]
  },
  {
   "cell_type": "markdown",
   "metadata": {},
   "source": [
    "<center><img src=\"https://i.imgur.com/qxLIx5y.png\" width=\"40%\"></center>"
   ]
  },
  {
   "cell_type": "markdown",
   "metadata": {},
   "source": [
    "Como se pode observar, executa-se sempre a soma dos dois símbolos com menor probabilidade, até que apenas um valor reste. Depois, atribui-se o número 1 ou 0, consoante o ramo que o símbolo siga."
   ]
  },
  {
   "cell_type": "markdown",
   "metadata": {},
   "source": [
    "<center><img src=\"https://i.imgur.com/3njtk5E.png\" width=\"20%\"></center>"
   ]
  },
  {
   "cell_type": "markdown",
   "metadata": {},
   "source": [
    "Finalmente, seguindo a ordem inversa dos ramos, obtemos cada um dos códigos de Huffman para o exemplo meramente lúdico."
   ]
  },
  {
   "cell_type": "markdown",
   "metadata": {},
   "source": [
    "Segue abaixo o código do método executado para realizar a codificação de Huffman. De notar que a tabela retornada vem sob forma de um array bi dimensional, uma vez que no enunciado dizia: `Também pode em alternativa gerar não uma tabela mas outra estrutura de dados com os\n",
    "códigos pretendidos.`.\n",
    "\n",
    "Primeiramente, necessitamos de realizar 2 imports que vão ser utilizados na função e para os testes da mesma: *`heapq`* e *`numpy`*. Da biblioteca *`heapq`* foram importados os métodos *`heappush`*, que introduz o valor indicado no array (heap), e *`heappop`*, que retira e retorna o menor valor do array."
   ]
  },
  {
   "cell_type": "code",
   "execution_count": 14,
   "metadata": {},
   "outputs": [],
   "source": [
    "from heapq import heappush, heappop\n",
    "import numpy as np"
   ]
  },
  {
   "cell_type": "markdown",
   "metadata": {},
   "source": [
    "Depois, dentro da função, realizamos um zip entre os simbolos e o número de ocorrências, de modo a ficar do género: [(simb, nOcorrencias), (simb, nOcorrencias), etc]. Ordenamos esse zip com a função *sorted*, criamos um novo array em que o número de ocorrências aparecem no índice 0, eliminamos desse array todos os valores cujo número de ocorrências seja nulo, de modo a facilitar a realização da tabela, e poupar tempo de processamento, bem como espaço no pc. Procedemos com a realização da função, criando um novo array desginado `frequências`, que recebe o número de ocorrências dos símbolos que não têm ocorrências nulas.\n",
    "\n",
    "Finalmente, criamos um while onde colocamos em prática o procedimento listado acima: obtemos os dois menores valores do array sem ocorrências nulas, retirando-os do array, atribuimos a cada um o valor *1* e *0*, somamos o valor de cada um, e colocamos a soma desses símbolos no array sem ocorrências. Voltamos a realizar este procedimento até que no array apenas exista 1 valor.\n",
    "\n",
    "Depois, resta realizar o sort do array pelo símbolo, e retornamos o array final, e as frequências."
   ]
  },
  {
   "cell_type": "code",
   "execution_count": 3,
   "metadata": {},
   "outputs": [],
   "source": [
    "def gen_huff_table(symbol_list,symbol_prob):\n",
    "    \n",
    "    nOcorrencias = symbol_prob.astype(int)\n",
    "    symbol_list_string = np.array(symbol_list).astype(str)\n",
    "    array_zipado = zip(symbol_list_string,nOcorrencias)\n",
    "    array_ordenado = sorted(array_zipado, key=lambda tup: tup[1])\n",
    "    array = [[ocorrencias,[simbolo, \"\"]] for simbolo, ocorrencias in array_ordenado] \n",
    "    array_sem_zeros = []\n",
    "    \n",
    "    for i in range(len(array)):\n",
    "        if array[i][0] != 0:\n",
    "            array_sem_zeros.append(array[i])\n",
    "            \n",
    "    frequencias = []\n",
    "    for i in range(len(array_sem_zeros)):\n",
    "        frequencias.append(array_sem_zeros[i])\n",
    "        \n",
    "    array_final = []\n",
    "    while len(array_sem_zeros) > 1:\n",
    "        menor_ocorrencia = heappop(array_sem_zeros)\n",
    "        segunda_menor_ocorrencia = heappop(array_sem_zeros)\n",
    "    \n",
    "        for i in menor_ocorrencia[1:]:\n",
    "            i[1] = '1' + i[1]            \n",
    "        for i in segunda_menor_ocorrencia[1:]:\n",
    "            i[1] = '0' + i[1]\n",
    "        heappush(array_sem_zeros, [menor_ocorrencia[0] + segunda_menor_ocorrencia[0]] + \\\n",
    "                                   menor_ocorrencia[1:] + segunda_menor_ocorrencia[1:])\n",
    "        \n",
    "    array_final = (array_sem_zeros[0])[slice(1, len(array_sem_zeros[0]))]\n",
    "    array_final.sort(key=lambda x: int(x[0]))    \n",
    "\n",
    "    return array_final, frequencias"
   ]
  },
  {
   "cell_type": "markdown",
   "metadata": {},
   "source": [
    "Após a realização do código e da respetiva explicação, segue-se um pequeno exemplo prático:"
   ]
  },
  {
   "cell_type": "code",
   "execution_count": 4,
   "metadata": {},
   "outputs": [
    {
     "name": "stdout",
     "output_type": "stream",
     "text": [
      "[['1', '11'], ['2', '00'], ['3', '101'], ['4', '01'], ['10', '100']]\n"
     ]
    }
   ],
   "source": [
    "simbolo = np.array([1, 2, 3, 4, 10])\n",
    "ocurrencias = np.array([2, 3, 1, 2, 1])\n",
    "tabela, freq = gen_huff_table(simbolo, ocurrencias)\n",
    "print(tabela)"
   ]
  },
  {
   "cell_type": "markdown",
   "metadata": {},
   "source": [
    "![green-divider](https://user-images.githubusercontent.com/7065401/52071924-c003ad80-2562-11e9-8297-1c6595f8a7ff.png)\n",
    "\n",
    "## Exercício 2<a name=\"ex2\"/>\n",
    "Para este exercício, foi pedido que fosse realizado o *`método encode_huff (message,symbol_code_table)`*. Este método permite realizar a codificação de uma mensagem que entra como atributo da função. Para isso, começamos por criar um array vazio que, no fim terá no seu interior a mensagem codificada, e que será o return da função.\n",
    "\n",
    "De seguida colocamos a mensagem em forma de array, separando cada caracter, para ser possível, agora no passo seguinte, percorrer o array da mensagem e comparar cada caracter que é passado na mensagem com as keys que estão dentro do atributo da função symbol_code_table, o que por fim terá o output desejado, que será a mensagem codificada segundo o dicionário que obtivemos a partir do exercício 1."
   ]
  },
  {
   "cell_type": "markdown",
   "metadata": {},
   "source": [
    "Para a realização desta função, primeiramente verificamos a natureza dos elementos da mensagem, para que independentemente do valor que o utilizador coloque nos testes (string ou int), o código possa ser executado no pleno da sua forma.\n",
    "\n",
    "De seguida convertemos a tabela obtida pelo parâmetro da função num dicionário, percorremos a lista dos símbolos da mensagem desejada, e verificamos se cada um deles se encontra nalgum símbolo da tabela. Caso isso aconteça, atribuímos a esse símbolo, a sua respetiva codificação de Huffman, e colocamos cada um dos símbolos codificados num novo array. Finalmente, caso não encontre o símbolo na tabela, informa o utilizador desse mesmo facto. Resta apenas retornar o array com a mensagem codificada, e fica assim terminada a implementação da função deste exercício 2.\n",
    "\n",
    "Segue-se o código realizado:"
   ]
  },
  {
   "cell_type": "code",
   "execution_count": 5,
   "metadata": {},
   "outputs": [],
   "source": [
    "def encode_huff(message,symbol_code_table):\n",
    "    \n",
    "    #Garantir que os simbolos sao lidos em formato string\n",
    "    msgString = []\n",
    "    if(isinstance(message[0], str)):\n",
    "        msgString = message\n",
    "    else:\n",
    "        msgString = [str(i) for i in message]\n",
    "        \n",
    "        \n",
    "    array_out = []\n",
    "    simbolo = list(msgString)\n",
    "    tabela = dict(symbol_code_table)\n",
    "    for i in simbolo:\n",
    "        if i in tabela:\n",
    "            array_out.append(tabela[i]) \n",
    "        else:\n",
    "            print(\"A Letra/Número \" + str(i) + \" não se encontra na lista de símbolos disponível\")\n",
    "    return array_out"
   ]
  },
  {
   "cell_type": "markdown",
   "metadata": {},
   "source": [
    "Segue-se abaixo um teste realizado à função acima realizada"
   ]
  },
  {
   "cell_type": "code",
   "execution_count": 6,
   "metadata": {},
   "outputs": [
    {
     "name": "stdout",
     "output_type": "stream",
     "text": [
      "Codificação da mensagem ' [1, 1, 2, 3, 2, 4] '\n",
      "['00', '00', '101', '01', '101', '100']\n"
     ]
    }
   ],
   "source": [
    "simbolo = [0, 1, 2, 3, 4]\n",
    "ocurrencias = np.array([2, 3, 1, 2, 1])\n",
    "tabela, frequencias = gen_huff_table(simbolo, ocurrencias)\n",
    "mensagem = [1, 1, 2, 3, 2, 4]\n",
    "print(\"Codificação da mensagem '\", mensagem,\"'\")\n",
    "codificacao = encode_huff(mensagem, tabela)\n",
    "print(codificacao)"
   ]
  },
  {
   "cell_type": "markdown",
   "metadata": {},
   "source": [
    "![green-divider](https://user-images.githubusercontent.com/7065401/52071924-c003ad80-2562-11e9-8297-1c6595f8a7ff.png)\n",
    "\n",
    "## Exercício 4<a name=\"ex4\"/>\n",
    "\n",
    "Neste exercício, era pedido para colocar todas as informações que recolhemos das alíneas anteriores, e as colocássemos num ficheiro, através do método *`writeArray2File(filename, binary_codes,symbol_code_table)`*.\n",
    "\n",
    "Para realizar este exercício convertemos toda a informação que recolhemos em binário, para no fim, quando for preciso ler o ficheiro, ser possível reconhecer quais as informações que nele se encontram inseridas. Para tal, usamos um método que consiste em, primeiramente, inserir 8 bits, em binário, para representar o número de símbolos da tabela `symbol_code_table`, com número máximo de 255. De seguida, executamos um ciclo for, que percorre a dimensão total da tabela (`len(symbol_code_table)`), onde vamos inserir mais 8 bits, representando o número do símbolo em binário, de seguida mais 5 bits, representantes da dimensão do código de Huffman atribuído a esse símbolo, e finalmente X bits, representantes desse mesmo código de Huffman para esse símbolo em concreto.\n",
    "\n",
    "Por exemplo, se o código binário indicativo do símbolo em binário for 11111110, quer dizer que nos encontramos no símbolo 254 do dicionário, e se o código binário indicativo da dimensão do código Huffman atribuído a esse símbolo for 00101, significa que vamos ter um código de Huffman a seguir, com dimensão 5 (00101 em inteiro).\n",
    "\n",
    "No final de fazermos toda esta codificação da tabela de Huffman, iremos juntar à mesma a mensagem codificada, que nos é passada como argumento `binary_codes`, e iremos inserir um header no início da codificação do ficheiro indicativo de quantos zeros temos de colocar no fim, de modo a obter um array de dimensão divisível por 8 (processo designado por *`bit stuffing`*.\n",
    "\n",
    "Após obtermos este array divisível por 8, vamos precisamente dividir o array em partes de 8 bits, converter cada uma delas em inteiro, e guardar num bytearray. Finalmente, guardamos este bytearray no ficheiro de nome indicado no parâmetro da função."
   ]
  },
  {
   "cell_type": "markdown",
   "metadata": {},
   "source": [
    "Antes de realizar o código, apenas necessitamos de realizar mais um import, da biblioteca `re`, que vai permitir realizar a reformulação do array em pedaços de 8. Segue-se então o código executado, produzido pela explicação acima dada:"
   ]
  },
  {
   "cell_type": "code",
   "execution_count": 1,
   "metadata": {},
   "outputs": [],
   "source": [
    "import re\n",
    "\n",
    "def writeArray2File(mensagem, file_name, symbol_code_table):\n",
    "    \n",
    "    stringmensagem = []\n",
    "    if(isinstance(mensagem[0], str) ):\n",
    "        stringmensagem = ''.join(mensagem)\n",
    "    elif(isinstance(mensagem[0], int)):\n",
    "        stringmensagem = \"\".join([str(a) for a in mensagem])\n",
    "        \n",
    "    stringTabela = \"\"\n",
    "    primeiros8bits = format(len(symbol_code_table), '0%db'%8)\n",
    "    stringTabela += primeiros8bits\n",
    "    for i in range(len(symbol_code_table)):\n",
    "        segundos8bits = format(int(symbol_code_table[i][0]), '0%db'%8)\n",
    "        bits5indicativos = format(len(symbol_code_table[i][1]), '0%db'%5)\n",
    "        huffman8bits = symbol_code_table[i][1]\n",
    "        stringTabela += segundos8bits + bits5indicativos + huffman8bits\n",
    "        \n",
    "    tamanhoRestante = 0\n",
    "    if((len(stringTabela) + len(stringmensagem) + 3) % 8 != 0):\n",
    "        tamanhoRestante = 8 - ((len(stringTabela) + len(stringmensagem) + 3) % 8)\n",
    "        \n",
    "    header = format(tamanhoRestante, '0%db'%3) \n",
    "    zerosAdicionais = tamanhoRestante * '0'\n",
    "    \n",
    "    stringFinal = header+stringTabela+stringmensagem+zerosAdicionais\n",
    "\n",
    "    binaryArray = re.findall('[01]{8}', stringFinal)\n",
    "    intArray = [int(i, 2) for i in binaryArray]\n",
    "    finalArray = np.array(intArray, dtype = 'uint8')\n",
    "    byteArray = bytearray(finalArray)\n",
    "\n",
    "    newFile = open(file_name, \"wb\")\n",
    "    newFile.write(byteArray)\n",
    "    newFile.close()"
   ]
  },
  {
   "cell_type": "markdown",
   "metadata": {},
   "source": [
    "Segue-se um exemplo demonstrativo do código acima realizado:"
   ]
  },
  {
   "cell_type": "code",
   "execution_count": 8,
   "metadata": {},
   "outputs": [
    {
     "name": "stdout",
     "output_type": "stream",
     "text": [
      "Ficheiro escrito com sucesso!\n"
     ]
    }
   ],
   "source": [
    "simbolo = [0, 1, 2, 3, 4]\n",
    "ocorrencias = np.array([2, 3, 1, 2, 1])\n",
    "tabela, frequencias = gen_huff_table(simbolo, ocorrencias)\n",
    "array = ['00', '00', '101', '01', '101', '100']\n",
    "filename = \"teste.txt\"\n",
    "writeArray2File(array, filename, tabela)\n",
    "print(\"Ficheiro escrito com sucesso!\")"
   ]
  },
  {
   "cell_type": "markdown",
   "metadata": {},
   "source": [
    "![green-divider](https://user-images.githubusercontent.com/7065401/52071924-c003ad80-2562-11e9-8297-1c6595f8a7ff.png)\n",
    "\n",
    "## Exercício 5<a name=\"ex5\"/>\n",
    "\n",
    "Neste exercício foi nos pedido para ler o ficheiro criado no exercício 4, usando o método *`readFile2Array(filename)`*, que dado o nome do  ficheiro, leia uma sequência de bits (mensagem codificada) contida no ficheiro.\n",
    "\n",
    "Para o começo do método, abrimos um ficheiro que contém a mensagem codificada dos métodos anteriores. De seguida, criamos uma variável de nome `fileread`, que guarda a informação proveniente do ficheiro. Para tal, fazemos uma operacao and bit a bit com 255, para tornar os bytes em inteiros novamente. Para ler o ficheiro, usamos o método `read()`.\n",
    "\n",
    "De seguida criamos um array vazio de nome `array_8bits`, e iniciamos um ciclo for que percorre a dimensão do array de inteiros `fileread`, lido do ficheiro, e à medida que o for vai iterando, vamos inserindo os valores que se encontram no array `fileread`, no `array_8bits`, com formatação de 8 bits, tal como indica o nome do array. Finalmente, realizamos um \"flat\" ao array, ou seja, transformamos o array em string, juntando toda a informação contida no mesmo, e por fim damos return dessa string.\n",
    "\n",
    "Segue-se abaixo o código realizado para a leitura do ficheiro:"
   ]
  },
  {
   "cell_type": "code",
   "execution_count": 9,
   "metadata": {},
   "outputs": [],
   "source": [
    "def readFile2Array(file_name):\n",
    "\n",
    "    with open(file_name, 'rb') as ficheiro:\n",
    "        fileread = [byte & 255 for byte in bytearray(ficheiro.read())]\n",
    "        \n",
    "        \n",
    "    array_8bits = []\n",
    "    for i in range(len(fileread)):\n",
    "        numero = format(fileread[i], '0%db'%8)\n",
    "        array_8bits.append(numero)\n",
    "        \n",
    "    string_8bits_seguidos = ''.join(array_8bits)\n",
    "\n",
    "    return string_8bits_seguidos"
   ]
  },
  {
   "cell_type": "markdown",
   "metadata": {},
   "source": [
    "Segue-se um exemplo demonstrativo, com a leitura do ficheiro guardado no exercício anterior:"
   ]
  },
  {
   "cell_type": "code",
   "execution_count": 10,
   "metadata": {},
   "outputs": [
    {
     "name": "stdout",
     "output_type": "stream",
     "text": [
      "00100000101000000000001011000000010001000000000100001110100000011000100100000100000111000000101011011000\n"
     ]
    }
   ],
   "source": [
    "filename = \"teste.txt\"\n",
    "string_lida = readFile2Array(filename)\n",
    "print(string_lida)"
   ]
  },
  {
   "cell_type": "markdown",
   "metadata": {},
   "source": [
    "![green-divider](https://user-images.githubusercontent.com/7065401/52071924-c003ad80-2562-11e9-8297-1c6595f8a7ff.png)\n",
    "\n",
    "## Exercício 3<a name=\"ex3\"/>\n",
    "\n",
    "No exercício 3, era pedido para realizar a descodificação, ou seja, o contrário do exercício 2, usando o método *`decode_huff (binary_codes , symbol_code_table )`*, que dada uma mensagem (sequência de símbolos) codificada, e a tabela do exercício 1, retorne uma sequência de bits com a mensagem descodificada.\n",
    "\n",
    "A explicação desde exercício vem na sequência natural dos exercícios 4 e 5, pois faz muito mais sentido executar a sua realização e explicação depois, quando já temos a mensagem codificada proveniente da leitura do ficheiro criado no exercício 4, e lido no exercício 5.\n",
    "\n",
    "Estando a justificação do porquê de apenas agora explicarmos o exercício 3, procedemos com a sua realização.\n",
    "\n",
    "Primeiramente, necessitamos remover os bits extra adicionados no ínicio (header) e fim (zeros adicionados para o array ficar com dimensão divisível por 8), o que foi realizado com `slice()`. De seguida, retiramos os primeiros 8 bits, convertemos para inteiros, e conseguimos compreender quantos bits existem no dicionário de Huffman. Após saber este número, realizamos um ciclo for que o percorre, em que lá dentro voltamos a pegar nos segundos 8 bits, convertendo-os para inteiro, o que indica qual o símbolo, colocando-o num array novo destinado aos símbolos de nome `simbolos`. Pegamos ainda nos próximos 5, convertemo-los para inteiro, e essa informação é indicativa da dimensão do código de Huffman que se segue, atribuído a esse símbolo. Por fim, pegamos então nesse código, e colocamo-lo num outro array destinado apenas aos códigos, de nome `huffmanCode`.\n",
    "\n",
    "Para finalizar a primeira parte da explicação, realizamos um zip entre `simbolo` e `huffmanCode`, e assim fica reconstruída a tabela de Huffman, que vamos utilizar para realizar a descodificação.\n",
    "\n",
    "Para iniciar a segunda parte da pergunta, invertemos a chave com o valor da tabela de Huffman, para assim ser mais fácil o termo de comparação na atribuição da descodificação. Depois, realizamos um while, em que verificamos se a chave se encontra na tabela de Huffman com ordem invertida. Caso esta se encontre na tabela, verificamos se a dimensão da key é igual ao código que estamos a comparar, e caso se confirme, adicionamos esse código num novo array destinado a receber a mensagem descodificada, de nome `array_out`, realizamos break, e o ciclo continua.\n",
    "\n",
    "Finalmente, retornamos esse array, convertendo os números em inteiros, para melhor termo de comparação.\n",
    "\n",
    "Segue-se o código produzido para esta pergunta:"
   ]
  },
  {
   "cell_type": "code",
   "execution_count": 11,
   "metadata": {},
   "outputs": [],
   "source": [
    "def decode_huff(string_in, code_table):\n",
    "    \n",
    "    slicer_header = slice(0,3)\n",
    "    bits_adicionados = int(string_in[slicer_header], 2)\n",
    "    slicer_newString_in = slice(3, len(string_in)-bits_adicionados)\n",
    "    string_withoutBitStuffing = string_in[slicer_newString_in]\n",
    "    array_withoutBitStuffing = list(string_withoutBitStuffing)\n",
    "    \n",
    "    numeroSimbolos = int(string_withoutBitStuffing[slice(0, 8)], 2)\n",
    "    del(array_withoutBitStuffing[:8])\n",
    "    \n",
    "    simbolos = []\n",
    "    huffmanCode = []\n",
    "    \n",
    "    for i in range(numeroSimbolos):\n",
    "        simbolo = int(''.join(array_withoutBitStuffing[:8]),2)\n",
    "        simbolos.append(str(simbolo))\n",
    "        del(array_withoutBitStuffing[:8])\n",
    "        dimensaoHuffman = int(''.join(array_withoutBitStuffing[:5]), 2)\n",
    "        del(array_withoutBitStuffing[:5])\n",
    "        huffman = ''.join(array_withoutBitStuffing[:dimensaoHuffman])\n",
    "        huffmanCode.append(huffman)\n",
    "        del(array_withoutBitStuffing[:dimensaoHuffman])\n",
    "        \n",
    "    tabela = zip(simbolos, huffmanCode)\n",
    "\n",
    "    tabela_dict = dict((i[1], i[0]) for i in tabela)\n",
    "    \n",
    "    mensagem = ''.join(array_withoutBitStuffing)\n",
    "\n",
    "    index = 0\n",
    "    array_out = []\n",
    "\n",
    "    while index < len(mensagem):\n",
    "        for key in tabela_dict:\n",
    "            if mensagem[index : index + len(key)] == key:\n",
    "                array_out.append(tabela_dict[key])\n",
    "                index += len(key)\n",
    "                break\n",
    "            \n",
    "    return np.array(array_out).astype(int)"
   ]
  },
  {
   "cell_type": "markdown",
   "metadata": {},
   "source": [
    "Segue-se um exemplo demonstrativo do sucesso da execução desta função:"
   ]
  },
  {
   "cell_type": "code",
   "execution_count": 12,
   "metadata": {},
   "outputs": [
    {
     "name": "stdout",
     "output_type": "stream",
     "text": [
      "Mensagem descodificada: [1 1 2 3 2 4]\n"
     ]
    }
   ],
   "source": [
    "filename = \"teste.txt\"\n",
    "string_lida = readFile2Array(filename)\n",
    "simbolo = [0, 1, 2, 3, 4]\n",
    "ocurrencias = np.array([2, 3, 1, 2, 1])\n",
    "tabela, frequencias = gen_huff_table(simbolo, ocurrencias)\n",
    "array_out = decode_huff(string_lida, tabela)\n",
    "print(\"Mensagem descodificada:\",array_out)"
   ]
  },
  {
   "cell_type": "markdown",
   "metadata": {},
   "source": [
    "![green-divider](https://user-images.githubusercontent.com/7065401/52071924-c003ad80-2562-11e9-8297-1c6595f8a7ff.png)\n",
    "\n",
    "## Exercício 6<a name=\"ex6\"/>\n",
    "Para este exercicío é pedido para fazer uma junção de todos os exercicíos realizados anteriormente. Neste caso, em vez de passarmos strings e arrays exemplificativos, iremos passar uma imagem, com o nome de *`lenac.tif`*. Foi também medido o tempo que os nossos métodos demoram a processar quando executada cada uma das funções, e também foi feito o cálculo da entropia, do número médio de bits e da eficiência, bem como foi verificado o tamanho dos ficheiros quando é lida e guardada a informação dentro deste ficheiro."
   ]
  },
  {
   "cell_type": "markdown",
   "metadata": {},
   "source": [
    "Para a resolução deste exercício, foi necessário importar algumas bibliotecas, que se seguem abaixo:"
   ]
  },
  {
   "cell_type": "code",
   "execution_count": 22,
   "metadata": {},
   "outputs": [],
   "source": [
    "import matplotlib.pyplot as plt\n",
    "from time import time\n",
    "from scipy import stats\n",
    "import os\n",
    "import cv2"
   ]
  },
  {
   "cell_type": "markdown",
   "metadata": {},
   "source": [
    "* `Matplotlib.pyplot` -> permite visualisar gráficos e imagens\n",
    "* `time` -> permite realizar a contagem do tempo, para poder contar quanto tempo cada função demora a correr\n",
    "* `scipy.stats` -> permite realizar o cálculo da entropia, dada a probabilidade de ocorrência dos símbolos, através de `stats.entropy`\n",
    "* `os` -> permite obter o tamanho dos ficheiros, através de `os.path.getsize`\n",
    "* `cv2` -> permite obter, editar e visualizar imagens"
   ]
  },
  {
   "cell_type": "markdown",
   "metadata": {},
   "source": [
    "Para os cálculos da entropia e do número médio de bits, é necessário primeiramente obter a probabilidade de cada símbolo. Para tal, foi criado o método *`probabilidadeSimbolo(frequencias)`*, que, recebendo as frequências de cada símbolo, retorna a probabilidade de esse símbolo ocorrer."
   ]
  },
  {
   "cell_type": "code",
   "execution_count": 24,
   "metadata": {},
   "outputs": [],
   "source": [
    "def probabilidadeSimbolo(frequencias):\n",
    "    somaOcorrencias = sum([i[0] for i in frequencias])\n",
    "    probabilidades = []\n",
    "    for i in range(len(frequencias)):  \n",
    "        probabilidades.append(frequencias[i][0]/somaOcorrencias) \n",
    "    return probabilidades"
   ]
  },
  {
   "cell_type": "markdown",
   "metadata": {},
   "source": [
    "A entropia pode ser definida como o número médio mínimo de *bits* necessário à representação de cada símbolo de uma dada fonta em função da probabilidade de ocorrência desse símbolo na fonte, portanto a entropia é tanto maior quanto maior quanto maior a incerteza. Em termos do código de Huffman, os símbolos com maior probabilidade serão codificados com menos bits, e os símbolos com menor probabilidade serão codificados com mais bits.\n",
    "\n",
    "A entropia pode ser dada pela seguinte fórmula:\n",
    "<br>\n",
    "<center>\n",
    "<img src = \"https://i.imgur.com/7JSZiUY.png\"/>\n",
    "</center>\n",
    "<br>\n",
    "\n",
    "Sendo assim, foi criado o método de nome `entropia(frequencia)`. Para descobrir o valor da entropia, recorremos ao método da biblioteca do `scipy` de nome `entropy`, que como o próprio nome indica, retorna o resultado da entropia. A realização do método pode ser vista em baixo:"
   ]
  },
  {
   "cell_type": "code",
   "execution_count": 25,
   "metadata": {},
   "outputs": [],
   "source": [
    "def entropia(frequencias):\n",
    "    \"\"\"metodo que calcula a entropia usando a biblioteca scipy com o metodo entropy\"\"\"\n",
    "    entropy = stats.entropy(probabilidadeSimbolo(frequencias),None,2.)\n",
    "    return entropy"
   ]
  },
  {
   "cell_type": "markdown",
   "metadata": {},
   "source": [
    "Em relação ao número médio de bits por símbolo é dado pela probabilidade de cada símbolo multiplicada pela dimensão da codificação de Huffman desse símbolo.\n",
    "Este conceito pode ser dado pela seguinte fórmula:\n",
    "<br>\n",
    "<center>\n",
    "<img src = \"https://i.imgur.com/t64UTsC.png\"/>\n",
    "</center>\n",
    "<br>\n",
    "\n",
    "Foi então criado o método `nBits_simbolo(frequencias, tabela)` que calcula o número médio de bits, passando como argumento a frequência desse simbolo e a tabela. Como temos de achar a probabilidade de cada símbolo ocorrer, teremos de invocar o método `probabilidadeSimbolo(frequencias)` para obter a probabilidade de cada símbolo ocorrer."
   ]
  },
  {
   "cell_type": "code",
   "execution_count": 26,
   "metadata": {},
   "outputs": [],
   "source": [
    "def nBits_simbolo(frequencias, tabela):\n",
    "    \"\"\"\"método que calcula o número de bits por símbolo\"\"\"\n",
    "    probabilidades = probabilidadeSimbolo(frequencias)\n",
    "    L = 0\n",
    "    for i in range(len(tabela)):\n",
    "        L += probabilidades[i]*len(frequencias[i][1][1])\n",
    "    return L"
   ]
  },
  {
   "cell_type": "markdown",
   "metadata": {},
   "source": [
    "Em relação à eficiência, usando o teorema de codificação de *Shannon*, é possível codificar uma fonte, sem perdas, com um número médio de bits por símbolo maior ou igual à entropia da fonte.\n",
    "Este teorema pode ser visto na figura em baixo:\n",
    "<br>\n",
    "<center>\n",
    "<img src = \"https://i.imgur.com/tG16Zfl.png\"/>\n",
    "</center>\n",
    "<br>\n",
    "\n",
    "E com isto, foi feita a realização de um método para achar a eficiência, o nome desse método é `eficiencia(entropia, nMedioBits)`, que consiste na divisão entre a entropia e o número médio de bis"
   ]
  },
  {
   "cell_type": "code",
   "execution_count": 27,
   "metadata": {},
   "outputs": [],
   "source": [
    "def eficiencia(entropia, nMedioBits):\n",
    "    return float(entropia) / float(nMedioBits)"
   ]
  },
  {
   "cell_type": "markdown",
   "metadata": {},
   "source": [
    "Com os métodos auxiliares criados para este exercício, foi feita a realização do mesmo, com a junção de todos os métodos realizados. Segue-se em baixo o código realizado:"
   ]
  },
  {
   "cell_type": "code",
   "execution_count": 30,
   "metadata": {},
   "outputs": [
    {
     "name": "stdout",
     "output_type": "stream",
     "text": [
      "----------- Alínea a) ------------\n",
      "Codificação Huffman:\n",
      "[['25', '100101011001101001'], ['26', '100101011001100'], ['27', '00001101110100'], ['28', '1001010110010'], ['29', '100101011000'], ['30', '000011011100'], ['31', '10010101000'], ['32', '00001101100'], ['33', '1001010111'], ['34', '0010010111'], ['35', '110100011'], ['36', '011111100'], ['37', '010001100'], ['38', '11101001'], ['39', '10100101'], ['40', '01011110'], ['41', '00011010'], ['42', '00000001'], ['43', '1101011'], ['44', '1100001'], ['45', '1010100'], ['46', '0111101'], ['47', '0110110'], ['48', '1000000'], ['49', '0110101'], ['50', '0111010'], ['51', '0111011'], ['52', '1000010'], ['53', '1010011'], ['54', '1100011'], ['55', '1101001'], ['56', '1110110'], ['57', '1111100'], ['58', '00011001'], ['59', '00011100'], ['60', '00110100'], ['61', '01110011'], ['62', '10000111'], ['63', '10010011'], ['64', '10110001'], ['65', '11001011'], ['66', '11101000'], ['67', '11100100'], ['68', '11110001'], ['69', '11110000'], ['70', '11001101'], ['71', '11100010'], ['72', '11011000'], ['73', '11100011'], ['74', '11000100'], ['75', '10110100'], ['76', '11001100'], ['77', '10111110'], ['78', '10011000'], ['79', '10100000'], ['80', '10101111'], ['81', '10100100'], ['82', '11001111'], ['83', '10010010'], ['84', '10011100'], ['85', '10001110'], ['86', '01111111'], ['87', '01111100'], ['88', '01011111'], ['89', '01010111'], ['90', '01010110'], ['91', '00101001'], ['92', '00101111'], ['93', '00001111'], ['94', '00000010'], ['95', '1110101'], ['96', '1101111'], ['97', '1011100'], ['98', '1010001'], ['99', '0110011'], ['100', '1000101'], ['101', '1001000'], ['102', '1000100'], ['103', '1010110'], ['104', '1100000'], ['105', '1100100'], ['106', '1110011'], ['107', '1111010'], ['108', '1111101'], ['109', '00010011'], ['110', '00001001'], ['111', '00000101'], ['112', '00001100'], ['113', '00000000'], ['114', '00000111'], ['115', '00010010'], ['116', '00000011'], ['117', '1111110'], ['118', '1110111'], ['119', '1111001'], ['120', '1110000'], ['121', '1011101'], ['122', '1011011'], ['123', '1001101'], ['124', '0111000'], ['125', '0110100'], ['126', '0100010'], ['127', '0100100'], ['128', '0011011'], ['129', '0010000'], ['130', '0011001'], ['131', '0101001'], ['132', '0101010'], ['133', '0110010'], ['134', '1000001'], ['135', '1001111'], ['136', '1000110'], ['137', '1001011'], ['138', '0111100'], ['139', '0110000'], ['140', '0100111'], ['141', '0101000'], ['142', '0011110'], ['143', '0010101'], ['144', '0010011'], ['145', '0010110'], ['146', '0101100'], ['147', '0011111'], ['148', '0100110'], ['149', '0101110'], ['150', '0100001'], ['151', '0100000'], ['152', '0011100'], ['153', '0001011'], ['154', '0000101'], ['155', '0001000'], ['156', '0001010'], ['157', '0001111'], ['158', '0011000'], ['159', '0100101'], ['160', '0110111'], ['161', '1010101'], ['162', '1011110'], ['163', '1101110'], ['164', '1111111'], ['165', '00000100'], ['166', '00001000'], ['167', '00011101'], ['168', '00101110'], ['169', '00100010'], ['170', '01000111'], ['171', '00111011'], ['172', '00001110'], ['173', '00100011'], ['174', '00101000'], ['175', '00111010'], ['176', '00110101'], ['177', '00100100'], ['178', '01011011'], ['179', '10001111'], ['180', '10101110'], ['181', '11011001'], ['182', '11100101'], ['183', '000011010'], ['184', '000110111'], ['185', '001001010'], ['186', '000110110'], ['187', '000001100'], ['188', '000110001'], ['189', '000110000'], ['190', '11110111'], ['191', '11011011'], ['192', '11010100'], ['193', '10110000'], ['194', '10100001'], ['195', '01111101'], ['196', '11000101'], ['197', '10111111'], ['198', '10110101'], ['199', '11010101'], ['200', '11010000'], ['201', '10110010'], ['202', '11001110'], ['203', '11001010'], ['204', '10110011'], ['205', '10000110'], ['206', '10010100'], ['207', '01100010'], ['208', '01011010'], ['209', '01110010'], ['210', '10011101'], ['211', '01100011'], ['212', '10011001'], ['213', '11011010'], ['214', '000001101'], ['215', '010001101'], ['216', '011111101'], ['217', '111101101'], ['218', '111101100'], ['219', '0010010110'], ['220', '1101000100'], ['221', '1001010101'], ['222', '1101000101'], ['223', '00001101101'], ['224', '10010101001'], ['225', '000011011110'], ['226', '000011011111'], ['227', '100101011011'], ['228', '100101011010'], ['229', '00001101110101'], ['230', '00001101110110'], ['231', '000011011101111'], ['232', '100101011001110'], ['233', '100101011001111'], ['234', '000011011101110'], ['235', '100101011001101000'], ['238', '100101011001101101'], ['242', '10010101100110101'], ['244', '100101011001101100'], ['245', '10010101100110111']]\n",
      "\n",
      "time a) tabela Huffman:  0.00299072265625\n",
      "\n",
      "Entropia:  7.445487279763922\n",
      "Número médio de bits por símbolo:  7.468196868896484\n",
      "Eficiência:  0.9969591603527295\n",
      "\n",
      "A mensagem foi codificada com sucesso, ficando com tamanho:  262144\n",
      "time c) codificação: 0.30110692977905273\n",
      "\n",
      "Escreveu no ficheiro com sucesso\n",
      "Ficheiro de tamanho: 245297 bytes\n",
      "\n",
      "Ficheiro lido com sucesso\n",
      "time descodificacao: 10.28608250617981\n",
      "Erro: 0\n",
      "taxa:  1.0701068500633926\n"
     ]
    },
    {
     "data": {
      "image/png": "[encoded data removed]",
      "text/plain": [
       "<Figure size 432x288 with 1 Axes>"
      ]
     },
     "metadata": {
      "needs_background": "light"
     },
     "output_type": "display_data"
    }
   ],
   "source": [
    "# Lê a imagem em níveis de cinzento\n",
    "x = cv2.imread( \"lenac.tif\", cv2.IMREAD_GRAYSCALE )\n",
    "shape = x.shape\n",
    "\n",
    "# Converte a imagem (matriz) numa sequência de números (array)\n",
    "xi = x.ravel()\n",
    "\n",
    "# Calcula o histogram\n",
    "symbol_ocorr, symbols_list, patches = plt.hist(xi,256,[0,256])\n",
    "symbol_list = np.arange(0, 256)\n",
    "\n",
    "# código alínea a) - Gera o código de Huffman\n",
    "t0 = time()\n",
    "symbol_code_table, frequencias = gen_huff_table(symbol_list, symbol_ocorr)\n",
    "t1 = time()\n",
    "print(\"----------- Alínea a) ------------\")\n",
    "print(\"Codificação Huffman:\")\n",
    "print(symbol_code_table)\n",
    "print()\n",
    "print(\"time a) tabela Huffman: \", t1-t0)\n",
    "print()\n",
    "\n",
    "def probabilidadeSimbolo(frequencias):\n",
    "    \n",
    "    somaOcorrencias = sum([i[0] for i in frequencias])\n",
    "    \n",
    "    probabilidades = []\n",
    "    for i in range(len(frequencias)):\n",
    "        \n",
    "        probabilidades.append(frequencias[i][0]/somaOcorrencias)\n",
    "        \n",
    "    return probabilidades\n",
    "\n",
    "def entropia(frequencias):\n",
    "    \"\"\"metodo que calcula a entropia usando a biblioteca scipy com o metodo entropy\"\"\"\n",
    "\n",
    "    entropy = stats.entropy(probabilidadeSimbolo(frequencias),None,2.)\n",
    "    return entropy\n",
    "\n",
    "\n",
    "def nBits_simbolo(frequencias, tabela):\n",
    "    \n",
    "    probabilidades = probabilidadeSimbolo(frequencias)\n",
    "\n",
    "    L = 0\n",
    "    for i in range(len(tabela)):\n",
    "        L += probabilidades[i]*len(frequencias[i][1][1])\n",
    "    \n",
    "    return L\n",
    "    \n",
    "\n",
    "def eficiencia(entropia, nMedioBits):\n",
    "    return float(entropia) / float(nMedioBits)\n",
    "\n",
    "\n",
    "# código alíneas b)\n",
    "\n",
    "Entropy = entropia(frequencias)\n",
    "print(\"Entropia: \", Entropy)\n",
    "L = nBits_simbolo(frequencias, symbol_code_table)\n",
    "print(\"Número médio de bits por símbolo: \", L)\n",
    "Eficiency = eficiencia(Entropy, L)\n",
    "print(\"Eficiência: \", Eficiency)\n",
    "print()\n",
    "\n",
    "\n",
    "# código alíneas c) e d) - Codifica e grava ficheiro\n",
    "binary_codes = encode_huff(xi, symbol_code_table)\n",
    "t2 = time()\n",
    "print(\"A mensagem foi codificada com sucesso, ficando com tamanho: \", len(binary_codes))\n",
    "print(\"time c) codificação:\", t2-t1)\n",
    "\n",
    "filename = \"LenaCodificada.txt\"\n",
    "writeArray2File(binary_codes, filename, symbol_code_table)\n",
    "print()\n",
    "print(\"Escreveu no ficheiro com sucesso\")\n",
    "print(\"Ficheiro de tamanho:\", os.path.getsize(filename), \"bytes\")\n",
    "\n",
    "\n",
    "# código alíneas e) e f) Lê ficheiro e descodifica\n",
    "binaryArray = readFile2Array(filename)\n",
    "print()\n",
    "print(\"Ficheiro lido com sucesso\")\n",
    "\n",
    "yi = decode_huff(binaryArray, symbol_code_table)\n",
    "t3 = time()\n",
    "print(\"time descodificacao:\", t3-t2)\n",
    "\n",
    "img = np.array(yi).reshape(shape)\n",
    "cv2.imwrite(\"lenaDepoisDescodificacao.tif\",img)\n",
    "\n",
    "# código alíneas g)\n",
    "erro = np.sum(xi - yi)\n",
    "print(\"Erro:\",erro)\n",
    "size_ini = os.path.getsize(\"lenaGray.tif\")\n",
    "size_end = os.path.getsize(filename)\n",
    "print(\"taxa: \", 1.* size_ini / size_end)\n",
    "#plt.show()\n",
    "#cv2.waitKey(0)\n",
    "#plt.close(\"all\")\n",
    "#cv2.destroyAllWindows()"
   ]
  },
  {
   "cell_type": "markdown",
   "metadata": {},
   "source": [
    "Como se pode observar nos diferentes prints que foram feitos, é de reparar que o tempo de processamento é relativamente baixo. É de notar que cada tempo varia a cada execução do código, sendo que o mais variante é o tempo de descodificação (varia entre 8 e 12 segundos usualmente). Segue-se as tabelas dos valores obtidos para as variáveis e para os tempos:"
   ]
  },
  {
   "cell_type": "markdown",
   "metadata": {},
   "source": [
    "<center><img src = \"https://i.imgur.com/KE6ZL6n.png\" width=\"350\" height=\"350\"></center>"
   ]
  },
  {
   "cell_type": "markdown",
   "metadata": {},
   "source": [
    "<center><img src = \"https://i.imgur.com/Zi9Ivnu.png\" width=\"500\" height=\"500\"></center>"
   ]
  },
  {
   "cell_type": "markdown",
   "metadata": {},
   "source": [
    "O valor da entropia e do número médio de bits por símbolo deve ser relativamente igual/parecido. Observando os valores obtidos, podemos deduzir que isto se confirma. Como a efeciência do código é a divisão entre estes dois valores, e ambos são praticamente idênticos, é esperado uma efeciência de código com valor aproximado de 1, que vai de acordo com o resultado obtido.\n",
    "\n",
    "No final do exercício era pedido que fosse feita uma comparação entre o tamanho dos diferentes ficheiros, e verificar se existe alguma alteração ou perda de informação.\n",
    "\n",
    "Utilizando a biblioteca `path` e o método `getsize()` dessa mesma biblioteca, conseguimos obter os tamanhos das imagens originais e descodificadas, respetivamente. Através dos resultados obtidos podemos calcular a Taxa de Compressão utilizando a expressão descrita em cima.\n",
    "\n",
    "Como seria de esperar, visto que a codificação de Huffman se trata de uma codificação sem perdas, o tamanho da imagem original e da imagem codificada tinha que ser idêntico, e através do teste e dos cálculos efetuados, conseguimos provar esse objetivo com sucesso.\n",
    "\n",
    "De seguida, apresentamos as imagens antes e depois, de terem sido codificadas e descodificadas:\n",
    "<br>\n",
    "<center>\n",
    "<img src = \"https://i.imgur.com/XccpYKK.png%22/\" style=\"float:left\" width=\"350\" height=\"350\">\n",
    "</center>\n",
    "<center>\n",
    "<img src = \"https://i.imgur.com/TXRY461.png%22/\" style=\"float:right\" width=\"350\" height=\"350\">\n",
    "</center>\n",
    "<br>"
   ]
  },
  {
   "cell_type": "markdown",
   "metadata": {},
   "source": [
    "Nas imagens de cima apresentadas, à esquerda, podemos visualizar a imagem original da lena em tons de cinzento, e na direita, a mesma foto, mas quando esta é submetida à codificação de Huffman.\n",
    "\n",
    "Como podemos observar nestas duas imagens, ambas estão iguais, não surgindo perda de informação em ambas, pelo que o funcionamento deste algoritmo, assim como todos os outros métodos para a realização desta etapa estão corretos."
   ]
  },
  {
   "cell_type": "markdown",
   "metadata": {},
   "source": [
    "![purple-divider](https://user-images.githubusercontent.com/7065401/52071927-c1cd7100-2562-11e9-908a-dde91ba14e59.png)\n",
    "\n",
    "## Conclusão<a name=\"conclusao\"/>\n",
    "\n",
    "Com a realização deste trabalho pratico adquirimos vários conhecimentos tais como\n",
    "compressão sem perdas(Lossless), codificação de Huffman, entropia, entre muitos outros. Estes conhecimentos adquiridos permitem-nos realizar uma\n",
    "descompressão sem perdas, o que é uma mais valia. Durante a realização do trabalho deparámos-nos com algumas dificuldades na escrita do ficheiro\n",
    "mas com algum pensamento critico e perseverança conseguimos ultrapassar as dificuldades e conseguir na nossa opinião uma boa estruturação de código\n",
    "com uma boa eficiência."
   ]
  },
  {
   "cell_type": "markdown",
   "metadata": {},
   "source": [
    "![purple-divider](https://user-images.githubusercontent.com/7065401/52071927-c1cd7100-2562-11e9-908a-dde91ba14e59.png)\n",
    "\n",
    "## Bibliografia<a name=\"bibliografia\"/>\n",
    "-> Slides fornecidos pelos docentes<br>\n",
    "-> Codificação de huffman:https://pt.wikipedia.org/wiki/Codifica%C3%A7%C3%A3o_de_Huffman"
   ]
  }
 ],
 "metadata": {
  "kernelspec": {
   "display_name": "Python 3",
   "language": "python",
   "name": "python3"
  },
  "language_info": {
   "codemirror_mode": {
    "name": "ipython",
    "version": 3
   },
   "file_extension": ".py",
   "mimetype": "text/x-python",
   "name": "python",
   "nbconvert_exporter": "python",
   "pygments_lexer": "ipython3",
   "version": "3.7.4"
  }
 },
 "nbformat": 4,
 "nbformat_minor": 4
}
