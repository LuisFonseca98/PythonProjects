{
 "cells": [
  {
   "cell_type": "code",
   "execution_count": 6,
   "metadata": {},
   "outputs": [
    {
     "name": "stdout",
     "output_type": "stream",
     "text": [
      "dict_keys(['foldTrain', 'trueClass', 'foldTest', 'X'])\n",
      "(784, 321)\n"
     ]
    }
   ],
   "source": [
    "import numpy as np\n",
    "import numpy.random as rd\n",
    "import numpy.linalg as lg\n",
    "import matplotlib.pyplot as plt\n",
    "import scipy.spatial.distance as spd\n",
    "import pickle\n",
    "from scipy.linalg import sqrtm\n",
    "from sklearn.metrics import confusion_matrix\n",
    "from sklearn.model_selection import train_test_split,KFold,StratifiedKFold,cross_val_predict,cross_val_score\n",
    "from sklearn.neighbors import KNeighborsClassifier\n",
    "import scipy.spatial.distance as spd\n",
    "from sklearn.metrics import mean_absolute_error\n",
    "\n",
    "fName = 'MNISTsmall.p'\n",
    "D = pickle.load(open(fName,'rb'))\n",
    "print(D.keys())\n",
    "foldTrain = D['foldTrain']\n",
    "trueClass=D['trueClass']\n",
    "foldTest = D['foldTest']\n",
    "X = D['X']\n",
    "X=X[:,(trueClass==0) & foldTest]\n",
    "X=X[:,0:321]\n",
    "X = X*1.\n",
    "print(X.shape)"
   ]
  },
  {
   "cell_type": "code",
   "execution_count": 11,
   "metadata": {},
   "outputs": [
    {
     "name": "stdout",
     "output_type": "stream",
     "text": [
      "(784, 784)\n",
      "0.0\n"
     ]
    }
   ],
   "source": [
    "#Pergunta a) F F V F\n",
    "cov=np.cov(X)\n",
    "print(cov.shape)\n",
    "det = np.linalg.det(cov)\n",
    "print(det)\n",
    "u,v=lg.eig(cov)"
   ]
  },
  {
   "cell_type": "code",
   "execution_count": 12,
   "metadata": {},
   "outputs": [
    {
     "ename": "NameError",
     "evalue": "name 'Xr' is not defined",
     "output_type": "error",
     "traceback": [
      "\u001b[1;31m---------------------------------------------------------------------------\u001b[0m",
      "\u001b[1;31mNameError\u001b[0m                                 Traceback (most recent call last)",
      "\u001b[1;32m<ipython-input-12-670079f97c44>\u001b[0m in \u001b[0;36m<module>\u001b[1;34m\u001b[0m\n\u001b[0;32m      9\u001b[0m \u001b[1;31m#plt.plot(np.log(u+1e-10))\u001b[0m\u001b[1;33m\u001b[0m\u001b[1;33m\u001b[0m\u001b[1;33m\u001b[0m\u001b[0m\n\u001b[0;32m     10\u001b[0m \u001b[0mx1\u001b[0m\u001b[1;33m=\u001b[0m\u001b[0mX\u001b[0m\u001b[1;33m[\u001b[0m\u001b[1;33m:\u001b[0m\u001b[1;33m,\u001b[0m\u001b[1;36m282\u001b[0m\u001b[1;33m]\u001b[0m\u001b[1;33m\u001b[0m\u001b[1;33m\u001b[0m\u001b[0m\n\u001b[1;32m---> 11\u001b[1;33m \u001b[0mx2\u001b[0m\u001b[1;33m=\u001b[0m\u001b[0mXr\u001b[0m\u001b[1;33m[\u001b[0m\u001b[1;33m:\u001b[0m\u001b[1;33m,\u001b[0m\u001b[1;36m282\u001b[0m\u001b[1;33m]\u001b[0m\u001b[1;33m\u001b[0m\u001b[1;33m\u001b[0m\u001b[0m\n\u001b[0m\u001b[0;32m     12\u001b[0m \u001b[0mmae\u001b[0m \u001b[1;33m=\u001b[0m \u001b[0mmean_absolute_error\u001b[0m\u001b[1;33m(\u001b[0m\u001b[0mx1\u001b[0m\u001b[1;33m,\u001b[0m\u001b[0mx2\u001b[0m\u001b[1;33m)\u001b[0m\u001b[1;33m\u001b[0m\u001b[1;33m\u001b[0m\u001b[0m\n\u001b[0;32m     13\u001b[0m \u001b[0mprint\u001b[0m\u001b[1;33m(\u001b[0m\u001b[0mmae\u001b[0m\u001b[1;33m)\u001b[0m\u001b[1;33m\u001b[0m\u001b[1;33m\u001b[0m\u001b[0m\n",
      "\u001b[1;31mNameError\u001b[0m: name 'Xr' is not defined"
     ]
    }
   ],
   "source": [
    "#Pergunta b) F V F F\n",
    "Cx=np.cov(X)\n",
    "u,W=lg.eig(Cx)\n",
    "u=u.real\n",
    "W=W.real\n",
    "idx=np.argsort(-u)\n",
    "u=u[idx]\n",
    "W=W[:,idx]\n",
    "#plt.plot(np.log(u+1e-10))\n",
    "x1=X[:,282]\n",
    "x2=Xr[:,282]\n",
    "mae = mean_absolute_error(x1,x2)\n",
    "print(mae)"
   ]
  },
  {
   "cell_type": "code",
   "execution_count": 13,
   "metadata": {},
   "outputs": [
    {
     "name": "stdout",
     "output_type": "stream",
     "text": [
      "Norma:  39.334716129442434\n",
      "Desvio Padrao 107.15906633691685\n"
     ]
    }
   ],
   "source": [
    "#Pergunta c) F V F F\n",
    "d=np.around(X)\n",
    "m=np.mean(X)\n",
    "normaMedia = lg.norm(m)\n",
    "print(\"Norma: \", normaMedia)\n",
    "print(\"Desvio Padrao\",np.std(d[152,:]))"
   ]
  },
  {
   "cell_type": "code",
   "execution_count": 14,
   "metadata": {},
   "outputs": [
    {
     "data": {
      "text/plain": [
       "<matplotlib.image.AxesImage at 0x23d42c98b80>"
      ]
     },
     "execution_count": 14,
     "metadata": {},
     "output_type": "execute_result"
    },
    {
     "data": {
      "image/png": "[encoded data removed]",
      "text/plain": [
       "<Figure size 432x288 with 1 Axes>"
      ]
     },
     "metadata": {
      "needs_background": "light"
     },
     "output_type": "display_data"
    }
   ],
   "source": [
    "#Pergunta d) V F F F\n",
    "a=np.reshape(X[:,238],(28,28))\n",
    "plt.imshow(a,cmap=\"binary\",interpolation=None)"
   ]
  },
  {
   "cell_type": "code",
   "execution_count": 15,
   "metadata": {},
   "outputs": [
    {
     "data": {
      "text/plain": [
       "<matplotlib.image.AxesImage at 0x23d42d3dc40>"
      ]
     },
     "execution_count": 15,
     "metadata": {},
     "output_type": "execute_result"
    },
    {
     "data": {
      "image/png": "[encoded data removed]",
      "text/plain": [
       "<Figure size 432x288 with 1 Axes>"
      ]
     },
     "metadata": {
      "needs_background": "light"
     },
     "output_type": "display_data"
    }
   ],
   "source": [
    "v=np.real(v)\n",
    "b=np.reshape(v[:,16],(28,28))\n",
    "plt.imshow(b,cmap='gray',interpolation=None)\n",
    "#plt.grid()"
   ]
  },
  {
   "cell_type": "code",
   "execution_count": 16,
   "metadata": {},
   "outputs": [
    {
     "name": "stdout",
     "output_type": "stream",
     "text": [
      "561.3780275287503\n",
      "Erro_quadratico_medio: 561.0\n"
     ]
    }
   ],
   "source": [
    "#Pergunta e) F F F V\n",
    "Cx=np.cov(X)\n",
    "\n",
    "\n",
    "u,W=lg.eig(Cx)\n",
    "u=u.real\n",
    "W=W.real\n",
    "\n",
    "idx=np.argsort(-u)\n",
    "u=u[idx]\n",
    "W=W[:,idx]\n",
    "Woriginal=W\n",
    "#plt.plot(np.log(u+1e-10))\n",
    "\n",
    "W2=W[:,:43]\n",
    "Xp=np.dot(W2.T,X)\n",
    "Xr=np.dot(W2,Xp)\n",
    "\n",
    "x1=X[:,261]\n",
    "x2=Xr[:,261]\n",
    "\n",
    "mse = np.mean((x1 - x2)**2)\n",
    "print(mse)\n",
    "print(\"Erro_quadratico_medio:\", np.round(mse,0))"
   ]
  },
  {
   "cell_type": "code",
   "execution_count": 17,
   "metadata": {},
   "outputs": [
    {
     "name": "stdout",
     "output_type": "stream",
     "text": [
      "O numero mínimo de componentes principias -> 9\n"
     ]
    }
   ],
   "source": [
    "#Pergunta f) V F F F\n",
    "Cx=np.cov(X)\n",
    "(v,W)=np.linalg.eig(Cx)\n",
    "v = v.real\n",
    "idx = np.argsort(-v)\n",
    "v = v / np.sum(v)\n",
    "v = v[idx]\n",
    "\n",
    "l = np.cumsum(v)\n",
    "k = np.sum(l <= 0.60) + 1\n",
    "print(\"O numero mínimo de componentes principias ->\", k)"
   ]
  },
  {
   "cell_type": "code",
   "execution_count": 18,
   "metadata": {},
   "outputs": [
    {
     "name": "stdout",
     "output_type": "stream",
     "text": [
      "Nº de píxeis a 0 -> 322\n"
     ]
    }
   ],
   "source": [
    "#Pergunta g) F V F F\n",
    "print(\"Nº de píxeis a 0 ->\", np.sum((np.sum(X, axis=1)) == 0))"
   ]
  },
  {
   "cell_type": "code",
   "execution_count": 19,
   "metadata": {},
   "outputs": [
    {
     "name": "stdout",
     "output_type": "stream",
     "text": [
      "322\n",
      "coeficiente_correlacao 245 a 635: -0.02\n"
     ]
    }
   ],
   "source": [
    "#Pergunta h) F V F F\n",
    "f=np.round(X,decimals=2)\n",
    "C1=np.cov(X)\n",
    "idx1=np.diag(C1)==0\n",
    "print(np.sum(idx1))\n",
    "coef=np.corrcoef(X[244,:],X[634,:])\n",
    "print(\"coeficiente_correlacao 245 a 635:\", np.round(coef[1, 0], 2))"
   ]
  },
  {
   "cell_type": "code",
   "execution_count": 20,
   "metadata": {},
   "outputs": [
    {
     "name": "stdout",
     "output_type": "stream",
     "text": [
      "O produto interno entre os vetores x1 e x2 -> 5311517.0\n",
      "O produto interno entre os vetores x3 e x4 -> 5567856.0\n"
     ]
    }
   ],
   "source": [
    "#Pergunta i) F F V F\n",
    "produto_interno = np.dot(X[:,44],X[:,148])\n",
    "print(\"O produto interno entre os vetores x1 e x2 ->\", np.round(produto_interno, 0))\n",
    "\n",
    "produto_interno2 = np.dot(X[:,266] ,X[:,277])\n",
    "print(\"O produto interno entre os vetores x3 e x4 ->\", np.round(produto_interno2, 0))"
   ]
  },
  {
   "cell_type": "code",
   "execution_count": 21,
   "metadata": {},
   "outputs": [
    {
     "name": "stdout",
     "output_type": "stream",
     "text": [
      "320\n"
     ]
    }
   ],
   "source": [
    "#Pergunta j) F F F V\n",
    "C0=np.cov(X)\n",
    "u,v = lg.eig(C0)\n",
    "print(np.sum(u>pow(10,-10)))"
   ]
  },
  {
   "cell_type": "code",
   "execution_count": null,
   "metadata": {},
   "outputs": [],
   "source": []
  },
  {
   "cell_type": "code",
   "execution_count": null,
   "metadata": {},
   "outputs": [],
   "source": []
  }
 ],
 "metadata": {
  "kernelspec": {
   "display_name": "Python 3",
   "language": "python",
   "name": "python3"
  },
  "language_info": {
   "codemirror_mode": {
    "name": "ipython",
    "version": 3
   },
   "file_extension": ".py",
   "mimetype": "text/x-python",
   "name": "python",
   "nbconvert_exporter": "python",
   "pygments_lexer": "ipython3",
   "version": "3.8.3"
  }
 },
 "nbformat": 4,
 "nbformat_minor": 4
}
