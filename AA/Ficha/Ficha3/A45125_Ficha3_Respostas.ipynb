{
 "cells": [
  {
   "cell_type": "code",
   "execution_count": 3,
   "metadata": {},
   "outputs": [],
   "source": [
    "import pickle\n",
    "import numpy as np\n",
    "QuestDic=pickle.load(open(\"A45125_Ficha3_Respostas.p\",\"rb\"))\n",
    "\n",
    "QuestDic[\"Q001\"][0,:]=np.array([0,0,1,0])#a) F F V F\n",
    "QuestDic[\"Q001\"][1,:]=np.array([0,1,0,0])#b) F V F F\n",
    "QuestDic[\"Q001\"][2,:]=np.array([0,1,0,0])#c) F V F F\n",
    "QuestDic[\"Q001\"][3,:]=np.array([1,0,0,0])#d) V F F F\n",
    "QuestDic[\"Q001\"][4,:]=np.array([0,0,0,1])#e) F F F V\n",
    "QuestDic[\"Q001\"][5,:]=np.array([1,0,0,0])#f) V F F F\n",
    "QuestDic[\"Q001\"][6,:]=np.array([0,1,0,0])#g) F V F F\n",
    "QuestDic[\"Q001\"][7,:]=np.array([0,1,0,0])#h) F V F F\n",
    "QuestDic[\"Q001\"][8,:]=np.array([0,0,1,0])#i) F F V F\n",
    "QuestDic[\"Q001\"][9,:]=np.array([0,0,0,1])#j) F F F V\n",
    "\n",
    "#pickle.dump(QuestDic, open('A45125_Ficha3_Respostas.p', 'wb'))"
   ]
  },
  {
   "cell_type": "code",
   "execution_count": 4,
   "metadata": {},
   "outputs": [
    {
     "name": "stdout",
     "output_type": "stream",
     "text": [
      "{'Q001': array([[0., 0., 1., 0.],\n",
      "       [0., 1., 0., 0.],\n",
      "       [0., 1., 0., 0.],\n",
      "       [1., 0., 0., 0.],\n",
      "       [0., 0., 0., 1.],\n",
      "       [1., 0., 0., 0.],\n",
      "       [0., 1., 0., 0.],\n",
      "       [0., 1., 0., 0.],\n",
      "       [0., 0., 1., 0.],\n",
      "       [0., 0., 0., 1.]]), 'nome': 'Luis Carlos Semedo Da Fonseca', 'numero': 'A45125'}\n"
     ]
    }
   ],
   "source": [
    "print(QuestDic)"
   ]
  },
  {
   "cell_type": "code",
   "execution_count": null,
   "metadata": {},
   "outputs": [],
   "source": []
  }
 ],
 "metadata": {
  "kernelspec": {
   "display_name": "Python 3",
   "language": "python",
   "name": "python3"
  },
  "language_info": {
   "codemirror_mode": {
    "name": "ipython",
    "version": 3
   },
   "file_extension": ".py",
   "mimetype": "text/x-python",
   "name": "python",
   "nbconvert_exporter": "python",
   "pygments_lexer": "ipython3",
   "version": "3.8.3"
  }
 },
 "nbformat": 4,
 "nbformat_minor": 4
}
