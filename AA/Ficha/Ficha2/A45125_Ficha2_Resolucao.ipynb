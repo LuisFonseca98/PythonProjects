{
 "cells": [
  {
   "cell_type": "code",
   "execution_count": 1,
   "metadata": {},
   "outputs": [],
   "source": [
    "import numpy as np\n",
    "import numpy.random as rd\n",
    "import numpy.linalg as lg\n",
    "import matplotlib.pyplot as plt\n",
    "import scipy.spatial.distance as spd\n",
    "import pickle\n",
    "from sklearn.neighbors import KNeighborsClassifier\n",
    "from sklearn.metrics import confusion_matrix\n",
    "import scipy.spatial.distance as spd\n",
    "import matplotlib.pyplot as plt"
   ]
  },
  {
   "cell_type": "code",
   "execution_count": 2,
   "metadata": {},
   "outputs": [],
   "source": [
    "fName='A45125_Q001_data.p'\n",
    "D=pickle.load(open(fName,'rb'))"
   ]
  },
  {
   "cell_type": "code",
   "execution_count": 3,
   "metadata": {},
   "outputs": [],
   "source": [
    "X=D['X']\n",
    "y=D['trueClass']\n",
    "X1=D['Xtrain'].T\n",
    "X2=D['Xtest'].T\n",
    "y1=D['trueClassTrain']\n",
    "y2=D['trueClassTest']"
   ]
  },
  {
   "cell_type": "code",
   "execution_count": 13,
   "metadata": {},
   "outputs": [
    {
     "name": "stdout",
     "output_type": "stream",
     "text": [
      "(2, 934)\n",
      "(233, 2)\n",
      "(701, 2)\n"
     ]
    }
   ],
   "source": [
    "print(X.shape)\n",
    "print(X1.shape)\n",
    "print(X2.shape)\n",
    "#plt.plot(y1)"
   ]
  },
  {
   "cell_type": "code",
   "execution_count": 14,
   "metadata": {},
   "outputs": [
    {
     "name": "stdout",
     "output_type": "stream",
     "text": [
      "676\n",
      "[[ 69  10   0   1   0]\n",
      " [  2 139   9   0   1]\n",
      " [  0   2 120   0   0]\n",
      " [  0   0   0 137   0]\n",
      " [  0   0   0   0 211]]\n"
     ]
    }
   ],
   "source": [
    "#Pergunta 1 a) V F F F\n",
    "#Pergunta 1 b) F V F F\n",
    "knn=KNeighborsClassifier(n_neighbors=23).fit(X1,y1)\n",
    "y2e=knn.predict(X2)\n",
    "print(np.sum(y2e==y2))\n",
    "print(confusion_matrix(y2,y2e))"
   ]
  },
  {
   "cell_type": "code",
   "execution_count": 15,
   "metadata": {},
   "outputs": [
    {
     "name": "stdout",
     "output_type": "stream",
     "text": [
      "dict_keys(['trueClass', 'estClass'])\n"
     ]
    }
   ],
   "source": [
    "fName='A45125_Q003_data.p'\n",
    "D=pickle.load(open(fName,'rb'))\n",
    "print(D.keys())"
   ]
  },
  {
   "cell_type": "code",
   "execution_count": 16,
   "metadata": {},
   "outputs": [
    {
     "name": "stdout",
     "output_type": "stream",
     "text": [
      "(1200,)\n",
      "(1200,)\n"
     ]
    }
   ],
   "source": [
    "ye3 = D['trueClass']\n",
    "yp3 = D['estClass']\n",
    "print(ye3.shape)\n",
    "print(yp3.shape)"
   ]
  },
  {
   "cell_type": "code",
   "execution_count": 17,
   "metadata": {},
   "outputs": [],
   "source": [
    "#Pergunta 2\n",
    "w0 = np.array([[1,0],[-1,-1],[1,-3],[-2,0],[-1,-2]])\n",
    "w1 = np.array([[1,-1],[-2,1],[2,2],[-1,0],[1,-1]])"
   ]
  },
  {
   "cell_type": "code",
   "execution_count": 18,
   "metadata": {},
   "outputs": [],
   "source": [
    "#Alinea a)"
   ]
  },
  {
   "cell_type": "code",
   "execution_count": 19,
   "metadata": {},
   "outputs": [],
   "source": [
    "#Alinea b)"
   ]
  },
  {
   "cell_type": "code",
   "execution_count": 20,
   "metadata": {},
   "outputs": [],
   "source": [
    "#Alinea c)"
   ]
  },
  {
   "cell_type": "code",
   "execution_count": 21,
   "metadata": {},
   "outputs": [
    {
     "name": "stdout",
     "output_type": "stream",
     "text": [
      "[0. 0. 0. 0. 1. 1. 1. 1.]\n"
     ]
    }
   ],
   "source": [
    "#Alinea d)\n",
    "zeros=np.zeros(4)\n",
    "ones=np.ones(4)\n",
    "tc=np.hstack((zeros,ones))\n",
    "print(tc)"
   ]
  },
  {
   "cell_type": "code",
   "execution_count": 22,
   "metadata": {},
   "outputs": [
    {
     "name": "stdout",
     "output_type": "stream",
     "text": [
      "i\n",
      "Distancia a m0:  4.578209256903839\n",
      "Distancia a m1:  7.411612510108715\n",
      "ii\n",
      "Distancia a m0:  6.289674077406556\n",
      "Distancia a m1:  5.80792561935843\n"
     ]
    }
   ],
   "source": [
    "#Alinea e)\n",
    "# Alinea A - F V F F\n",
    "m0=np.mean(w0,axis=0)\n",
    "m1=np.mean(w1,axis=0)\n",
    "# i\n",
    "cov0 = np.cov(w0.T)\n",
    "cov1 = np.cov(w1.T)\n",
    "xi=[-4,-2]\n",
    "Dmi0=spd.mahalanobis(m0,xi,cov0)\n",
    "Dmi1=spd.mahalanobis(m1,xi,cov1)\n",
    "print(\"i\")\n",
    "print(\"Distancia a m0: \", Dmi0)\n",
    "print(\"Distancia a m1: \", Dmi1)\n",
    "\n",
    "# ii\n",
    "xii=[-3,2]\n",
    "Dmii0=spd.mahalanobis(m0,xii,cov0)\n",
    "Dmii1=spd.mahalanobis(m1,xii,cov1)\n",
    "print(\"ii\")\n",
    "print(\"Distancia a m0: \", Dmii0)\n",
    "print(\"Distancia a m1: \", Dmii1)"
   ]
  },
  {
   "cell_type": "code",
   "execution_count": 23,
   "metadata": {},
   "outputs": [
    {
     "name": "stdout",
     "output_type": "stream",
     "text": [
      "80.3125\n",
      "0.8\n"
     ]
    }
   ],
   "source": [
    "#Pergunta 3 a) V F F F\n",
    "print((771/(771+189))*100)\n",
    "print(np.sum(ye3==0)/ye3.shape[0])"
   ]
  },
  {
   "cell_type": "code",
   "execution_count": 24,
   "metadata": {},
   "outputs": [
    {
     "name": "stdout",
     "output_type": "stream",
     "text": [
      "0.225\n",
      "F-Score:  0.2236024844720497\n"
     ]
    }
   ],
   "source": [
    "#Pergunta 3 b) F F F V\n",
    "taxa = 54/(54+186)\n",
    "print(taxa)\n",
    "recall=54/(54+189)\n",
    "fscore = 2*((taxa*recall)/(taxa+recall))\n",
    "print(\"F-Score: \", fscore)"
   ]
  },
  {
   "cell_type": "code",
   "execution_count": 25,
   "metadata": {},
   "outputs": [
    {
     "name": "stdout",
     "output_type": "stream",
     "text": [
      "[[771 189]\n",
      " [ 54 186]]\n"
     ]
    }
   ],
   "source": [
    "#Pergunta 3 c) F V F F\n",
    "print(confusion_matrix(ye3,yp3))"
   ]
  },
  {
   "cell_type": "code",
   "execution_count": null,
   "metadata": {},
   "outputs": [],
   "source": []
  },
  {
   "cell_type": "code",
   "execution_count": null,
   "metadata": {},
   "outputs": [],
   "source": []
  },
  {
   "cell_type": "code",
   "execution_count": null,
   "metadata": {},
   "outputs": [],
   "source": []
  }
 ],
 "metadata": {
  "kernelspec": {
   "display_name": "Python 3",
   "language": "python",
   "name": "python3"
  },
  "language_info": {
   "codemirror_mode": {
    "name": "ipython",
    "version": 3
   },
   "file_extension": ".py",
   "mimetype": "text/x-python",
   "name": "python",
   "nbconvert_exporter": "python",
   "pygments_lexer": "ipython3",
   "version": "3.8.3"
  }
 },
 "nbformat": 4,
 "nbformat_minor": 4
}
