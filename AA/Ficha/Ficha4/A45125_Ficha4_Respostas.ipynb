{
 "cells": [
  {
   "cell_type": "code",
   "execution_count": 1,
   "metadata": {},
   "outputs": [],
   "source": [
    "import pickle\n",
    "import numpy as np\n",
    "QuestDic=pickle.load(open(\"A45125_Ficha4_Respostas.p\",\"rb\"))\n",
    "\n",
    "QuestDic[\"Q001\"][0,:]=np.array([1,0,0,0]) #V F F F\n",
    "QuestDic[\"Q001\"][1,:]=np.array([0,0,0,1]) #F F F V \n",
    "QuestDic[\"Q001\"][2,:]=np.array([0,0,1,0]) #F F V F\n",
    "\n",
    "QuestDic[\"Q002\"][0,:]=np.array([0,0,1,0]) #F F V F\n",
    "QuestDic[\"Q002\"][1,:]=np.array([0,0,0,1]) #F F F V \n",
    "QuestDic[\"Q002\"][2,:]=np.array([0,0,1,0]) #F F V F\n",
    "\n",
    "QuestDic[\"Q003\"][0,:]=np.array([0,0,0,1]) #F F F V\n",
    "QuestDic[\"Q003\"][1,:]=np.array([-1,-1,-1,-1]) #F F F F\n",
    "QuestDic[\"Q003\"][2,:]=np.array([0,0,0,1]) #F F F V\n",
    "\n",
    "#pickle.dump(QuestDic, open('A45125_Ficha4_Respostas.p', 'wb'))"
   ]
  },
  {
   "cell_type": "code",
   "execution_count": 2,
   "metadata": {
    "scrolled": true
   },
   "outputs": [
    {
     "name": "stdout",
     "output_type": "stream",
     "text": [
      "{'Q001': array([[1., 0., 0., 0.],\n",
      "       [0., 0., 0., 1.],\n",
      "       [0., 0., 1., 0.]]), 'Q002': array([[0., 0., 1., 0.],\n",
      "       [0., 0., 0., 1.],\n",
      "       [0., 0., 1., 0.]]), 'Q003': array([[ 0.,  0.,  0.,  1.],\n",
      "       [-1., -1., -1., -1.],\n",
      "       [ 0.,  0.,  0.,  1.]]), 'nome': 'Luis Carlos Semedo Da Fonseca', 'numero': 'A45125'}\n"
     ]
    }
   ],
   "source": [
    "print(QuestDic)"
   ]
  },
  {
   "cell_type": "code",
   "execution_count": null,
   "metadata": {},
   "outputs": [],
   "source": []
  }
 ],
 "metadata": {
  "kernelspec": {
   "display_name": "Python 3",
   "language": "python",
   "name": "python3"
  },
  "language_info": {
   "codemirror_mode": {
    "name": "ipython",
    "version": 3
   },
   "file_extension": ".py",
   "mimetype": "text/x-python",
   "name": "python",
   "nbconvert_exporter": "python",
   "pygments_lexer": "ipython3",
   "version": "3.8.3"
  }
 },
 "nbformat": 4,
 "nbformat_minor": 4
}
