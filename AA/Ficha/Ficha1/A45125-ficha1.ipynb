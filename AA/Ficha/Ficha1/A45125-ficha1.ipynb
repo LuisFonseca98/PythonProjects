{
 "cells": [
  {
   "cell_type": "code",
   "execution_count": 3,
   "metadata": {},
   "outputs": [],
   "source": [
    "import pickle\n",
    "import numpy as np\n",
    "import matplotlib.pyplot as plt\n",
    "import scipy.spatial.distance as spd\n",
    "import numpy.linalg as lg\n",
    "from scipy.linalg import sqrtm"
   ]
  },
  {
   "cell_type": "code",
   "execution_count": 4,
   "metadata": {},
   "outputs": [
    {
     "name": "stdout",
     "output_type": "stream",
     "text": [
      "CxReal\n",
      "[[ 1.66666667 -1.33333333]\n",
      " [-1.33333333  3.        ]]\n",
      "\n",
      "Matrix Teste 1\n",
      "[[ 1.66666667 -1.33333333]\n",
      " [-1.33333333  3.        ]]\n",
      "\n",
      "Matrix Teste 2\n",
      "[[0.25 2.25 2.25 0.25]\n",
      " [2.25 0.25 6.25 0.25]]\n",
      "\n",
      "Matrix teste 3\n",
      "[[ 1.25 -1.  ]\n",
      " [-1.    2.25]]\n",
      "\n",
      "Matrix teste 4\n",
      "[[ 3.16666667 -3.16666667]\n",
      " [-3.16666667  3.16666667]]\n"
     ]
    }
   ],
   "source": [
    "#Pergunta 1 a)\n",
    "w1 = np.array([[-4,-3],[-2,-2],[-5,1],[-3,-2]])\n",
    "X = w1.T\n",
    "CxReal = np.cov(X)\n",
    "print(\"CxReal\")\n",
    "print(CxReal)\n",
    "print()\n",
    "#i) RESPOSTA V\n",
    "print(\"Matrix Teste 1\")\n",
    "print(np.cov(X,ddof=1))\n",
    "print()\n",
    "\n",
    "#ii)RESPOSTA F\n",
    "mx=np.mean(X,axis=1)\n",
    "Xn=(X.T-mx).T\n",
    "Ctmp=Xn*Xn\n",
    "print(\"Matrix Teste 2\")\n",
    "print(Ctmp/(w1.shape[1]-1))\n",
    "print()\n",
    "\n",
    "\n",
    "#iii) RESPOSTA F\n",
    "print(\"Matrix teste 3\")\n",
    "print(np.cov(X.T,rowvar=False,ddof=0))\n",
    "print()\n",
    "\n",
    "#iv) RESPOSTA F\n",
    "mx=np.mean(X,axis=0)\n",
    "Xn=X-mx\n",
    "Ctmp=np.dot(Xn,Xn.T)\n",
    "print(\"Matrix teste 4\")\n",
    "print(Ctmp/(X.shape[1]-1))"
   ]
  },
  {
   "cell_type": "code",
   "execution_count": 5,
   "metadata": {},
   "outputs": [
    {
     "name": "stdout",
     "output_type": "stream",
     "text": [
      "[[-35.73 -17.8  -40.78 -26.33]\n",
      " [-24.04 -14.78   5.17 -15.65]]\n",
      "\n",
      "[[-35.73212362 -17.79956357 -40.7968878  -26.33234183]\n",
      " [-24.03557364 -14.77904674   5.18750224 -15.64605026]]\n"
     ]
    }
   ],
   "source": [
    "#Perunta 1 b)\n",
    "#i)RESPOTA V\n",
    "A=np.array([[8.53,0.87],[0.87,7.52]])\n",
    "m=np.array([1, 2])\n",
    "Y=np.dot(A,X)+m[:,np.newaxis]\n",
    "print(Y)\n",
    "print()\n",
    "#ii)RESPOSTA V\n",
    "Cy=np.array([[73.56,13.92],[13.92,57.34]])\n",
    "A=sqrtm(Cy)\n",
    "m=np.array([1, 2])\n",
    "Y=np.dot(A,X)+m[:,np.newaxis]\n",
    "print(Y)\n",
    "\n",
    "#iii) RESPOSTA V\n",
    "\n",
    "#iv) RESPOSTA F\n"
   ]
  },
  {
   "cell_type": "code",
   "execution_count": 6,
   "metadata": {},
   "outputs": [
    {
     "name": "stdout",
     "output_type": "stream",
     "text": [
      "Produto i [4.88888889 7.33333333]\n",
      "\n",
      "ProdutoII [ -7.66666667 -11.5       ]\n"
     ]
    }
   ],
   "source": [
    "#Pergunta 2 a) \n",
    "#i) RESPOSTA F\n",
    "w0 = np.array([[-4,-3],[-2,-2],[-5,1],[-3,-2]])\n",
    "w1 = np.array([[3,-1],[5,2],[3,-1]])\n",
    "\n",
    "cov1 = np.cov(w1.T)\n",
    "m1 = np.mean(w1, axis=0)\n",
    "produtoI = np.dot(cov1,m1)\n",
    "print(\"Produto i\",produtoI)\n",
    "print()\n",
    "\n",
    "#ii) RESPOSTA F\n",
    "m0 = np.mean(w0, axis=0)\n",
    "produtoII = np.dot(cov1,m0)\n",
    "print(\"ProdutoII\", produtoII)\n",
    "\n",
    "#iii)RESPOSTA F\n",
    "#iv)RESPOSTA V"
   ]
  },
  {
   "cell_type": "code",
   "execution_count": 7,
   "metadata": {},
   "outputs": [
    {
     "name": "stdout",
     "output_type": "stream",
     "text": [
      "Media das classes -12.833333333333332\n",
      "\n",
      "Norma 3.6666666666666665\n"
     ]
    }
   ],
   "source": [
    "#Pergunta 2 b) \n",
    "#i RESPOSTA V\n",
    "media = np.dot(m0,m1)\n",
    "print(\"Media das classes\", media)\n",
    "print()\n",
    "\n",
    "#ii RESPOSTA F\n",
    "norma = lg.norm(m1)\n",
    "print(\"Norma\",norma)\n",
    "\n",
    "#iii)RESPOSTA F\n",
    "#iv)RESPOSTA F"
   ]
  },
  {
   "cell_type": "code",
   "execution_count": 11,
   "metadata": {},
   "outputs": [
    {
     "name": "stdout",
     "output_type": "stream",
     "text": [
      "Media das classes\n",
      "[[43  4]\n",
      " [ 4  6]]\n",
      "\n",
      "Matrix de cov\n",
      "[[ 1.66666667 -1.33333333]\n",
      " [-1.33333333  3.        ]]\n"
     ]
    }
   ],
   "source": [
    "#Pergunta 2 c) \n",
    "#i RESPOSTA F\n",
    "media = np.dot(w1.T,w1)\n",
    "print(\"Media das classes\")\n",
    "print(media)\n",
    "print()\n",
    "\n",
    "#ii RESPOSTA F\n",
    "cov0 = np.cov(w0.T)\n",
    "print(\"Matrix de cov\")\n",
    "print(cov0)\n",
    "#iii)RESPOSTA F\n",
    "#iv)RESPOSTA V"
   ]
  },
  {
   "cell_type": "code",
   "execution_count": 211,
   "metadata": {},
   "outputs": [],
   "source": [
    "fName = 'A45125_Q003_data.p'\n",
    "D = pickle.load(open(fName,'rb'))"
   ]
  },
  {
   "cell_type": "code",
   "execution_count": 212,
   "metadata": {},
   "outputs": [
    {
     "name": "stdout",
     "output_type": "stream",
     "text": [
      "dict_keys(['trueClass', 'dados'])\n",
      "(2, 1850)\n",
      "(1850,)\n"
     ]
    }
   ],
   "source": [
    "X=D['dados']\n",
    "y=D['trueClass']\n",
    "print(D.keys())\n",
    "print(X.shape)\n",
    "print(y.shape)"
   ]
  },
  {
   "cell_type": "code",
   "execution_count": 213,
   "metadata": {},
   "outputs": [
    {
     "name": "stdout",
     "output_type": "stream",
     "text": [
      "[1.84112768 1.63571432]\n",
      "Matriz de Covariancia\n",
      "[[ 8.03685261  3.13089255]\n",
      " [ 3.13089255 11.00146119]]\n"
     ]
    }
   ],
   "source": [
    "#Pergunta 3 a) \n",
    "#i RESPOSTA V\n",
    "m=np.mean(X[:,y!=4],axis=1)\n",
    "print(m)\n",
    "\n",
    "#ii) RESPOSTA F\n",
    "MC3=np.cov(X[:,y!=4])\n",
    "print(\"Matriz de Covariancia\")\n",
    "print(MC3)\n",
    "\n",
    "#iii)RESPOSTA F\n",
    "#iv)RESPOSTA F"
   ]
  },
  {
   "cell_type": "code",
   "execution_count": 214,
   "metadata": {},
   "outputs": [
    {
     "name": "stdout",
     "output_type": "stream",
     "text": [
      "Prioridade apriori de 0:  0.1891891891891892\n",
      "\n",
      "Matriz de Covariancia\n",
      "[[ 8.66288819e-01 -4.04818712e-03]\n",
      " [-4.04818712e-03  4.07768126e+00]]\n"
     ]
    }
   ],
   "source": [
    "#Pergunta 3 b)\n",
    "#i) RESPOSTA V\n",
    "print(\"Prioridade apriori de 0: \", (X[:, y==0]).shape[1]/1850)\n",
    "print()\n",
    "#ii) RESPOSTA F\n",
    "MC3=np.cov(X[:,y==2])\n",
    "print(\"Matriz de Covariancia\")\n",
    "print(MC3)\n",
    "#iii)F\n",
    "#iv)F"
   ]
  },
  {
   "cell_type": "code",
   "execution_count": 215,
   "metadata": {},
   "outputs": [
    {
     "name": "stdout",
     "output_type": "stream",
     "text": [
      "Media da classe 0 [-1.30702334  3.75049968]\n",
      "\n",
      "Media da classe 2 [ 1.6433105  -3.80536319]\n"
     ]
    }
   ],
   "source": [
    "#Pergunta 3 c)\n",
    "#i) RESPOSTA V\n",
    "m0 = np.mean(X[:,y==0],axis=1)\n",
    "print(\"Media da classe 0\", m0)\n",
    "print()\n",
    "#ii) RESPOSTA F\n",
    "m2 = np.mean(X[:,y==2],axis=1)\n",
    "print(\"Media da classe 2\", m2)\n",
    "\n",
    "#iii)F\n",
    "#iv)F"
   ]
  },
  {
   "cell_type": "code",
   "execution_count": 216,
   "metadata": {},
   "outputs": [
    {
     "name": "stdout",
     "output_type": "stream",
     "text": [
      "Produto do vetor [ 1.94238655 -5.02901272]\n",
      "\n",
      "produto interno  -16.419858627250527\n",
      "\n",
      "Produto matricial  -14.650716620283685\n",
      "\n",
      "Determinante  5.2389485389253965\n"
     ]
    }
   ],
   "source": [
    "#Pergunta 3 d)\n",
    "#i) RESPOSTA V\n",
    "MC0 = np.cov(X[:,y==0])\n",
    "mean2 = np.mean(X[:,y==2],axis=1)\n",
    "produto = np.dot(MC0,mean2)\n",
    "print(\"Produto do vetor\", produto)\n",
    "print()\n",
    "#ii)RESPOSTA F\n",
    "m0 = np.mean(X[:,y==0],axis=1)\n",
    "m2 = np.mean(X[:,y==2],axis=1)\n",
    "produto02 = np.dot(m0.T,m2)\n",
    "print(\"produto interno \",produto02)\n",
    "print()\n",
    "#iii) RESPOSTA F\n",
    "m0 = np.mean(X[:,y==0],axis=1)\n",
    "MC1 = np.cov(X[:,y==1])\n",
    "m2 = np.mean(X[:,y==2],axis=1)\n",
    "produtoIII_1 =np.dot(m0.T,MC1)\n",
    "produtoIII_2 = np.dot(produtoIII_1,m2)\n",
    "print(\"Produto matricial \",produtoIII_2)\n",
    "print()\n",
    "\n",
    "#iv) RESPOSTA F\n",
    "MC0 = np.cov(X[:,y==0])\n",
    "MC3 = np.cov(X[:,y==3])\n",
    "produtoMC = np.dot(MC0,MC3)\n",
    "deter = lg.linalg.det(produtoMC)\n",
    "print(\"Determinante \", deter)"
   ]
  },
  {
   "cell_type": "code",
   "execution_count": null,
   "metadata": {},
   "outputs": [],
   "source": []
  }
 ],
 "metadata": {
  "kernelspec": {
   "display_name": "Python 3",
   "language": "python",
   "name": "python3"
  },
  "language_info": {
   "codemirror_mode": {
    "name": "ipython",
    "version": 3
   },
   "file_extension": ".py",
   "mimetype": "text/x-python",
   "name": "python",
   "nbconvert_exporter": "python",
   "pygments_lexer": "ipython3",
   "version": "3.8.3"
  }
 },
 "nbformat": 4,
 "nbformat_minor": 4
}
