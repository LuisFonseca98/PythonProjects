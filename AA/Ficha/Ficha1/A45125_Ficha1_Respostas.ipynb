{
 "cells": [
  {
   "cell_type": "code",
   "execution_count": 1,
   "metadata": {},
   "outputs": [],
   "source": [
    "import pickle\n",
    "import numpy as np\n",
    "QuestDic=pickle.load(open(\"A45125_Ficha1_Respostas.p\",\"rb\"))\n",
    "\n",
    "QuestDic[\"Q001\"][0,:]=np.array([1,0,0,0]) \n",
    "QuestDic[\"Q001\"][1,:]=np.array([1,1,1,0]) \n",
    "\n",
    "QuestDic[\"Q002\"][0,:]=np.array([0,0,0,1]) \n",
    "QuestDic[\"Q002\"][1,:]=np.array([1,0,0,0])\n",
    "QuestDic[\"Q002\"][2,:]=np.array([0,0,0,1])\n",
    "\n",
    "QuestDic[\"Q003\"][0,:]=np.array([1,0,0,0]) \n",
    "QuestDic[\"Q003\"][1,:]=np.array([1,0,0,0])\n",
    "QuestDic[\"Q003\"][2,:]=np.array([1,0,0,0])\n",
    "QuestDic[\"Q003\"][3,:]=np.array([1,0,0,0])\n",
    "\n",
    "pickle.dump(QuestDic, open('A45125_Ficha1_Respostas.p', 'wb'))"
   ]
  },
  {
   "cell_type": "code",
   "execution_count": 2,
   "metadata": {},
   "outputs": [
    {
     "name": "stdout",
     "output_type": "stream",
     "text": [
      "Respostas:  \n",
      " {'Q001': array([[1., 0., 0., 0.],\n",
      "       [1., 1., 1., 0.]]), 'Q002': array([[0., 0., 0., 1.],\n",
      "       [1., 0., 0., 0.],\n",
      "       [0., 0., 0., 1.]]), 'Q003': array([[1., 0., 0., 0.],\n",
      "       [1., 0., 0., 0.],\n",
      "       [1., 0., 0., 0.],\n",
      "       [1., 0., 0., 0.]]), 'nome': 'Luis Carlos Semedo Da Fonseca', 'numero': 'A45125'} \n",
      "\n"
     ]
    }
   ],
   "source": [
    "print(\"Respostas: \", '\\n', QuestDic, '\\n')\n"
   ]
  },
  {
   "cell_type": "code",
   "execution_count": null,
   "metadata": {},
   "outputs": [],
   "source": []
  }
 ],
 "metadata": {
  "kernelspec": {
   "display_name": "Python 3",
   "language": "python",
   "name": "python3"
  },
  "language_info": {
   "codemirror_mode": {
    "name": "ipython",
    "version": 3
   },
   "file_extension": ".py",
   "mimetype": "text/x-python",
   "name": "python",
   "nbconvert_exporter": "python",
   "pygments_lexer": "ipython3",
   "version": "3.8.3"
  }
 },
 "nbformat": 4,
 "nbformat_minor": 4
}
