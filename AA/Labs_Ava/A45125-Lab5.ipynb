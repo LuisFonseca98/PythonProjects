{
 "cells": [
  {
   "cell_type": "markdown",
   "metadata": {},
   "source": [
    "# LAB5 e Texto"
   ]
  },
  {
   "cell_type": "markdown",
   "metadata": {},
   "source": [
    "<hr style=\"border:1px  solid black\"> </hr>"
   ]
  },
  {
   "cell_type": "markdown",
   "metadata": {},
   "source": [
    "### (Preencher)\n",
    "## Nome: Luís Fonseca\n",
    "## Número: 45125"
   ]
  },
  {
   "cell_type": "markdown",
   "metadata": {},
   "source": [
    "<hr style=\"border:1px  solid black\"> </hr>"
   ]
  },
  {
   "cell_type": "markdown",
   "metadata": {},
   "source": [
    "## Desenvolva e corra o código pedido nas células imediatamente abaixo das perguntas."
   ]
  },
  {
   "cell_type": "markdown",
   "metadata": {},
   "source": [
    "# IMPORTANTE:\n",
    "## Uma vez completado, grave este Jupyter notebook com o seguinte nome:\n",
    "## Axxxxx-Lab5.ipynb (Axxxxx: número de aluno)\n",
    "##  e depois submeta o ficheiro no link do Moodle providenciado para o efeito."
   ]
  },
  {
   "cell_type": "markdown",
   "metadata": {},
   "source": [
    "<hr style=\"border:2px solid black\"> </hr>"
   ]
  },
  {
   "cell_type": "markdown",
   "metadata": {},
   "source": [
    "## Considere o ficheiro pickle $\\texttt{Lab5Data.p}$\n",
    "### Neste ficheiro encontra-se um dicionário de Python com as seguintes variáveis:\n",
    "### 1. \"X\":             dados bi-dimensionais (1500 amostras)\n",
    "### 2. \"y\":              classe dos dados (3 classes, inteiros de 0 a 2)\n",
    "### 3. \"foldTrain\": array boleano indicando os dados a serem usados para treinar os classificadores\n",
    "### 3. \"foldTest\": array boleano indicando os dados a serem usados para testar os classificadores\n"
   ]
  },
  {
   "cell_type": "markdown",
   "metadata": {},
   "source": [
    "# Pergunta 1 - SVMs:\n",
    "## i. Use os dados de treino para treinar uma máquina de suporte vetorial (SVM) para classificar os dados. Não especifique nenhum parâmetro ao declarar o classificador (ex: $\\texttt{svm=SVC()}$). Classifique os dados de treino e de teste. Imprima o número total de erros e as matrizes de confusão para o treino e teste.\n",
    "## ii. Repita a alínea anterior especificando o kernel RBF, e fazendo uma pesquisa em grelha (usando a função $\\texttt{GridSearchCV}$, com o número de folds igual a 3 (três), para os parâmetros $\\texttt{C}$ e $\\texttt{gamma}$. Use os seguintes valores: $\\texttt{C}=\\{0.1,1,10,20\\}$ e $\\texttt{gamma}=\\{0.01,0.1,1\\}$. Imprima os valores dos parâmetros que obtiveram os melhores resultados.\n",
    "## iii. Use os dados de treino para treinar uma máquina de suporte vetorial (SVM) com um kernel RBF e com os valores de $\\texttt{C}$ e $\\texttt{gamma}$ que obtiveram os melhores resultados na alínea anterior. Classifique os dados de treino e de teste. Imprima o número total de erros e as matrizes de confusão para o treino e teste.\n",
    "## iv. Faça um \"plot\" dos dados de teste por classe, e dos erros do classificador SVM."
   ]
  },
  {
   "cell_type": "code",
   "execution_count": 93,
   "metadata": {},
   "outputs": [
    {
     "name": "stdout",
     "output_type": "stream",
     "text": [
      "dict_keys(['X', 'y', 'foldTrain', 'foldTest'])\n"
     ]
    }
   ],
   "source": [
    "import numpy as np\n",
    "import matplotlib.pyplot as plt\n",
    "import pickle\n",
    "from sklearn.metrics import confusion_matrix\n",
    "from sklearn.svm import SVC\n",
    "from sklearn.preprocessing import StandardScaler\n",
    "\n",
    "D=pickle.load(open('Lab5Data.p','rb'))\n",
    "print(D.keys())\n",
    "svm=SVC()"
   ]
  },
  {
   "cell_type": "code",
   "execution_count": 94,
   "metadata": {},
   "outputs": [
    {
     "name": "stdout",
     "output_type": "stream",
     "text": [
      "Nº erros treino: 55\n",
      "Matriz confusao treino [[220  12   9]\n",
      " [  9 241   6]\n",
      " [ 11   8 217]]\n",
      "\n",
      "Nº erros teste: 53\n",
      "Matriz confusao teste [[243  11   5]\n",
      " [  8 231   5]\n",
      " [ 14  10 240]]\n"
     ]
    }
   ],
   "source": [
    "X = D['X']*1\n",
    "y = D['y']\n",
    "foldTrain = D['foldTrain']\n",
    "foldTest = D['foldTest']\n",
    "\n",
    "X1 = X[:,foldTrain]\n",
    "X2 = X[:,foldTest]\n",
    "y1 = y[foldTrain]\n",
    "y2 = y[foldTest]\n",
    "\n",
    "svm1=SVC().fit(X1.T,y1)\n",
    "\n",
    "yer1=svm1.predict(X1.T)\n",
    "yer2=svm1.predict(X2.T)\n",
    "\n",
    "print(\"Nº erros treino:\",np.sum(y1!=yer1))\n",
    "print(\"Matriz confusao treino\", confusion_matrix(y1,yer1))\n",
    "print()\n",
    "\n",
    "print(\"Nº erros teste:\",np.sum(y2!=yer2))\n",
    "print(\"Matriz confusao teste\", confusion_matrix(y2,yer2))\n"
   ]
  },
  {
   "cell_type": "code",
   "execution_count": 95,
   "metadata": {},
   "outputs": [
    {
     "name": "stdout",
     "output_type": "stream",
     "text": [
      "% acertos no treino: 0.9154160982264665\n",
      "% acertos no teste: 0.9308996088657105\n",
      "Parâmetros: gamma=0.1000, C=20.0\n",
      "\n"
     ]
    }
   ],
   "source": [
    "from sklearn.model_selection import cross_val_score,GridSearchCV\n",
    "gList = [0.01, 0.1, 1]\n",
    "cList = [0.1, 1, 10, 20]\n",
    "grelha={'gamma':gList, 'C':cList}\n",
    "\n",
    "gSearch = GridSearchCV(SVC(kernel='rbf'), param_grid=grelha, cv=3)\n",
    "gSearch.fit(X1.T, y1)\n",
    "\n",
    "svm = gSearch.best_estimator_\n",
    "par = gSearch.best_params_\n",
    "print(\"% acertos no treino:\", svm.score(X1.T, y1))\n",
    "print(\"% acertos no teste:\", svm.score(X2.T, y2))\n",
    "print('Parâmetros: gamma=%.4f, C=%.1f'%(par['gamma'], par['C']))\n",
    "print()"
   ]
  },
  {
   "cell_type": "code",
   "execution_count": 96,
   "metadata": {},
   "outputs": [
    {
     "name": "stdout",
     "output_type": "stream",
     "text": [
      "erros no treino : 62\n",
      "erros no teste : 53\n",
      "matriz de confusao do treino :\n",
      " [[217  12  12]\n",
      " [  9 237  10]\n",
      " [ 10   9 217]]\n",
      "matriz de confusao do teste :\n",
      " [[243  11   5]\n",
      " [  9 228   7]\n",
      " [ 13   8 243]]\n"
     ]
    }
   ],
   "source": [
    "gSearch = SVC(kernel='rbf', C=par['C'], gamma=par['gamma'])\n",
    "gSearch.fit(X1.T, y1)\n",
    "\n",
    "ye1 = svm.predict(X1.T)\n",
    "ye2 = svm.predict(X2.T)\n",
    "print(\"erros no treino :\" , np.sum(ye1!=y1))\n",
    "print(\"erros no teste :\" , np.sum(ye2!=y2))\n",
    "cm1 = confusion_matrix(y1,ye1)\n",
    "cm2 = confusion_matrix(y2,ye2)\n",
    "print(\"matriz de confusao do treino :\\n\",cm1)\n",
    "print(\"matriz de confusao do teste :\\n\",cm2)"
   ]
  },
  {
   "cell_type": "code",
   "execution_count": 97,
   "metadata": {},
   "outputs": [
    {
     "data": {
      "image/png": "[encoded data removed]",
      "text/plain": [
       "<Figure size 432x288 with 1 Axes>"
      ]
     },
     "metadata": {
      "needs_background": "light"
     },
     "output_type": "display_data"
    }
   ],
   "source": [
    "plt.plot(X2.T[y2==0,0],X2.T[y2==0,1],'.')\n",
    "plt.plot(X2.T[y2==1,0],X2.T[y2==1,1],'.')\n",
    "plt.plot(X2.T[y2==2,0],X2.T[y2==2,1],'.')\n",
    "plt.plot(X2.T[y2!=ye2,0],X2.T[y2!=ye2,1],'ok')\n",
    "plt.axis('scaled')\n",
    "plt.grid(True)"
   ]
  },
  {
   "cell_type": "markdown",
   "metadata": {},
   "source": [
    "<hr style=\"border:2px solid black\"> </hr>"
   ]
  },
  {
   "cell_type": "markdown",
   "metadata": {},
   "source": [
    "# Pergunta 2 - Dados de texto $\\texttt{melville-moby_dick.txt}$:\n",
    "## i. Considere os documentos da lista \"$\\texttt{Docs}$\" (obtidos a partir do texto de Moby Dick).  Limpe cada documento de modo a só conterem caracteres alfabéticos. \n",
    "## ii. Faça a representação tf-idf dos documentos limpos. Use só os seguintes parâmetros: $\\texttt{min_df=3}$ e $\\texttt{token_pattern=r'\\b\\w\\w\\w\\w+\\b'}$\n",
    "## iii. Liste as 100 palavras (tokens) do vocabulário mais representativas.\n",
    "## iv.  Liste as 100 palavras do vocabulário que aparecem no maior número de documentos."
   ]
  },
  {
   "cell_type": "code",
   "execution_count": 98,
   "metadata": {},
   "outputs": [
    {
     "name": "stdout",
     "output_type": "stream",
     "text": [
      "[Moby Dick by Herman Melville 1851]\n",
      "\n",
      "\n",
      "ETYMOLOGY.\n",
      "\n",
      "(Supplied by a Late Consumptive Usher to a Grammar School)\n",
      "\n",
      "The pale Usher--threadbare in coat, heart, body, and brain; I see him\n",
      "now.  He was ever dusting his old lexicons and grammars, with a queer\n",
      "handkerchief, mockingly embellished with all the gay flags of all the\n",
      "known nations of the world.  He loved to dust his old grammars; it\n",
      "somehow mildly reminded him of his mortality.\n",
      "\n",
      "\"While you take in hand to school others, and to teach them by what\n",
      "name a whale-fish is to be called in our tongue leaving out, through\n",
      "ignorance, the letter H, which almost alone maketh the signification\n",
      "of the word, you deliver that which is not true.\" --HACKLUYT\n",
      "\n",
      "\"WHALE. ... Sw. and Dan. HVAL.  This animal is named from roundness\n",
      "or rolling; for in Dan. HVALT is arched or vaulted.\" --WEBSTER'S\n",
      "DICTIONARY\n",
      "\n",
      "\"WHALE. ... It is more immediately from the Dut. and Ger. WALLEN;\n",
      "A.S. WALW-IAN, to roll, to wallow.\" --RICHARDSON'S DICTIONARY\n",
      "\n",
      "KETOS,               GREEK.\n",
      "CETUS,               LATIN.\n",
      "WHOEL,               ANGLO-SAXON.\n",
      "HVALT,               DANISH.\n",
      "WAL,                 DUTCH.\n",
      "HWAL,                SWEDISH.\n",
      "WHALE,               ICELANDIC.\n",
      "WHALE,               ENGLISH.\n",
      "BALEINE,             FRENCH.\n",
      "BALLENA,             SPANISH.\n",
      "PEKEE-NUEE-NUEE,     FEGEE.\n",
      "PEKEE-NUEE-NUEE,     ERROMANGOAN.\n",
      "\n",
      "\n",
      "\n",
      "\n",
      "EXTRACTS (Supplied by a Sub-Sub-Librarian).\n",
      "\n",
      "It will be seen that this mere painstaking burrower and grub-worm of\n",
      "a poor devil of a Sub-Sub appears to have gone\n"
     ]
    }
   ],
   "source": [
    "from sklearn.feature_extraction.text import CountVectorizer, TfidfTransformer, TfidfVectorizer\n",
    "import re\n",
    "f=open('melville-moby_dick.txt','r')\n",
    "book=f.read()\n",
    "print(book[:1500])\n",
    "bL=book.split('\\n\\n')\n",
    "lc=[len(k) for k in bL]\n",
    "Docs=[bL[k] for k in range(len(bL)) if lc[k]>100]\n",
    "Docs=[d.replace('\\n',' ') for d in Docs]"
   ]
  },
  {
   "cell_type": "code",
   "execution_count": 99,
   "metadata": {},
   "outputs": [
    {
     "name": "stdout",
     "output_type": "stream",
     "text": [
      "The pale Usher--threadbare in coat, heart, body, and brain; I see him now.  He was ever dusting his old lexicons and grammars, with a queer handkerchief, mockingly embellished with all the gay flags of all the known nations of the world.  He loved to dust his old grammars; it somehow mildly reminded him of his mortality.\n",
      "\n",
      "The pale Usher threadbare in coat heart body and brain I see him now He was ever dusting his old lexicons and grammars with a queer handkerchief mockingly embellished with all the gay flags of all the known nations of the world He loved to dust his old grammars it somehow mildly reminded him of his mortality \n"
     ]
    }
   ],
   "source": [
    "print(Docs[0])\n",
    "print()\n",
    "\n",
    "Docs2 = [doc.replace('<br />', ' ') for doc in Docs]\n",
    "Docs3 = [re.sub(r'[^a-zA-Z\\u00C0-\\u00FF]+', ' ', doc) for doc in Docs2]\n",
    "\n",
    "print(Docs3[0])"
   ]
  },
  {
   "cell_type": "code",
   "execution_count": 100,
   "metadata": {},
   "outputs": [
    {
     "name": "stdout",
     "output_type": "stream",
     "text": [
      "(2025, 6102) <class 'scipy.sparse.csr.csr_matrix'>\n",
      "\n"
     ]
    }
   ],
   "source": [
    "tfidf = TfidfVectorizer(min_df=3, token_pattern=r'\\b\\w\\w\\w\\w+\\b').fit(Docs3)\n",
    "tokens = tfidf.get_feature_names()\n",
    "X_new = tfidf.transform(Docs3)\n",
    "print(X_new.shape, type(X_new))\n",
    "print()"
   ]
  },
  {
   "cell_type": "code",
   "execution_count": 101,
   "metadata": {},
   "outputs": [
    {
     "name": "stdout",
     "output_type": "stream",
     "text": [
      "['ginger', 'start', 'spring', 'porpoise', 'thunder', 'delight', 'cook', 'pull', 'owners', 'hearse', 'chap', 'fool', 'monsieur', 'follow', 'bell', 'waif', 'speaking', 'crow', 'huzza', 'purse', 'squeeze', 'bunger', 'canallers', 'bildad', 'heeded', 'queen', 'jonah', 'loose', 'drive', 'elephant', 'langsdorff', 'ghosts', 'chicha', 'grow', 'shiver', 'macey', 'flask', 'hemp', 'indispensable', 'bouton', 'line', 'cabaco', 'burtons', 'game', 'immortal', 'devil', 'queer', 'seven', 'down', 'turn', 'statement', 'luck', 'stump', 'letter', 'carpenter', 'master', 'compass', 'beer', 'stop', 'together', 'sleep', 'considering', 'monkey', 'yarman', 'shark', 'thou', 'aboard', 'balls', 'kill', 'roll', 'helm', 'blows', 'coffee', 'desert', 'gone', 'read', 'buffalo', 'temple', 'fish', 'sabbath', 'breeze', 'ambergris', 'lesson', 'deacon', 'child', 'maketh', 'examples', 'person', 'three', 'news', 'didst', 'farewell', 'doubts', 'yourself', 'whaling', 'facts', 'savage', 'remember', 'avast', 'perth']\n",
      "\n"
     ]
    }
   ],
   "source": [
    "xM = np.max(X_new, axis=0).toarray().squeeze()\n",
    "idx = np.argsort(-xM)\n",
    "voc = [tokens[i] for i in idx]\n",
    "#as 100 mais importantes\n",
    "print(voc[:100])\n",
    "print()"
   ]
  },
  {
   "cell_type": "code",
   "execution_count": 102,
   "metadata": {},
   "outputs": [
    {
     "name": "stdout",
     "output_type": "stream",
     "text": [
      "['that', 'with', 'this', 'from', 'whale', 'there', 'have', 'which', 'then', 'some', 'were', 'like', 'when', 'upon', 'they', 'what', 'into', 'their', 'more', 'ship', 'them', 'other', 'these', 'over', 'ahab', 'been', 'would', 'only', 'down', 'will', 'such', 'though', 'time', 'long', 'still', 'than', 'very', 'head', 'great', 'before', 'here', 'about', 'those', 'last', 'must', 'said', 'most', 'after', 'seemed', 'again', 'boat', 'while', 'captain', 'round', 'first', 'little', 'every', 'much', 'whales', 'could', 'white', 'being', 'three', 'through', 'same', 'almost', 'hand', 'well', 'where', 'ever', 'side', 'might', 'sperm', 'thing', 'himself', 'even', 'good', 'away', 'stubb', 'water', 'never', 'deck', 'made', 'queequeg', 'look', 'should', 'your', 'world', 'among', 'without', 'many', 'pequod', 'starbuck', 'life', 'once', 'come', 'sort', 'seen', 'back', 'thou']\n",
      "\n"
     ]
    }
   ],
   "source": [
    "idf = tfidf.idf_\n",
    "idx = np.argsort(idf)\n",
    "voc = [tokens[i] for i in idx]\n",
    "#as 100 mais importantes\n",
    "print(voc[:100])\n",
    "print()"
   ]
  },
  {
   "cell_type": "code",
   "execution_count": null,
   "metadata": {},
   "outputs": [],
   "source": []
  },
  {
   "cell_type": "code",
   "execution_count": null,
   "metadata": {},
   "outputs": [],
   "source": []
  }
 ],
 "metadata": {
  "kernelspec": {
   "display_name": "Python 3",
   "language": "python",
   "name": "python3"
  },
  "language_info": {
   "codemirror_mode": {
    "name": "ipython",
    "version": 3
   },
   "file_extension": ".py",
   "mimetype": "text/x-python",
   "name": "python",
   "nbconvert_exporter": "python",
   "pygments_lexer": "ipython3",
   "version": "3.8.3"
  }
 },
 "nbformat": 4,
 "nbformat_minor": 4
}
