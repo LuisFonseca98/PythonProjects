{
 "cells": [
  {
   "cell_type": "markdown",
   "metadata": {},
   "source": [
    "# LAB3 e LAb4: PCA, LDA e modelos polinomiais"
   ]
  },
  {
   "cell_type": "markdown",
   "metadata": {},
   "source": [
    "<hr style=\"border:1px  solid black\"> </hr>"
   ]
  },
  {
   "cell_type": "markdown",
   "metadata": {},
   "source": [
    "### (Preencher)\n",
    "## Nome: \n",
    "## Número: "
   ]
  },
  {
   "cell_type": "markdown",
   "metadata": {},
   "source": [
    "<hr style=\"border:1px  solid black\"> </hr>"
   ]
  },
  {
   "cell_type": "markdown",
   "metadata": {},
   "source": [
    "## Desenvolva e corra o código pedido nas células imediatamente abaixo das perguntas."
   ]
  },
  {
   "cell_type": "markdown",
   "metadata": {},
   "source": [
    "# IMPORTANTE:\n",
    "## Uma vez completado, grave este Jupyter notebook com o seguinte nome:\n",
    "## Axxxxx-Lab3e4.ipynb (Axxxxx: número de aluno)\n",
    "##  e depois submeta o ficheiro no link do Moodle providenciado para o efeito."
   ]
  },
  {
   "cell_type": "markdown",
   "metadata": {},
   "source": [
    "<hr style=\"border:2px solid black\"> </hr>"
   ]
  },
  {
   "cell_type": "markdown",
   "metadata": {},
   "source": [
    "## Considere o ficheiro pickle $\\texttt{Lab3e4Data.p}$\n",
    "### Neste ficheiro encontra-se um dicionário de Python com as seguintes variáveis:\n",
    "### 1. \"X\":             dados bi-dimensionais (840 amostras)\n",
    "### 2. \"y\":              classe dos dados (inteiros de 0 a 3)\n",
    "### 3. \"foldTrain\": array boleano indicando os dados a serem usados para treinar os classificadores\n",
    "### 3. \"foldTest\": array boleano indicando os dados a serem usados para testar os classificadores\n"
   ]
  },
  {
   "cell_type": "markdown",
   "metadata": {},
   "source": [
    "# Pergunta 1 - Discriminantes polinomiais:\n",
    "## 1. Use os dados de treino para estimar discriminante polinomial de 4ª ordem.\n",
    "## 2. Calcule as matrizes de confusão e o número total de erros nos dados de treino e de teste. Imprima os resultados.\n",
    "## 3. Faça um \"plot\" dos dados de teste por classe, e dos erros do discriminante polinomial."
   ]
  },
  {
   "cell_type": "code",
   "execution_count": 1,
   "metadata": {},
   "outputs": [
    {
     "name": "stdout",
     "output_type": "stream",
     "text": [
      "dict_keys(['X', 'y', 'foldTrain', 'foldTest'])\n"
     ]
    }
   ],
   "source": [
    "import numpy as np\n",
    "import matplotlib.pyplot as plt\n",
    "import pickle\n",
    "from sklearn.metrics import confusion_matrix\n",
    "D=pickle.load(open('Lab3e4Data.p','rb'))\n",
    "print(D.keys())"
   ]
  },
  {
   "cell_type": "code",
   "execution_count": 2,
   "metadata": {},
   "outputs": [],
   "source": [
    "from sklearn.preprocessing import PolynomialFeatures\n",
    "X=D['X']\n",
    "y=D['y']\n",
    "f1=D['foldTrain']\n",
    "f2=D['foldTest']\n",
    "X1=X[:,f1]\n",
    "y1=y[f1]\n",
    "X2=X[:,f2]\n",
    "y2=y[f2]\n",
    "Y1=-np.ones((4,y1.shape[0]))\n",
    "for i in range(4):\n",
    "    Y1[i,y1==i]=1\n",
    "poly=PolynomialFeatures(degree=4).fit(X1.T)\n",
    "X1b=poly.transform(X1.T).T\n",
    "X2b=poly.transform(X2.T).T\n",
    "Rx=np.dot(X1b,X1b.T)\n",
    "rxy=np.dot(X1b,Y1.T)\n",
    "W=np.dot(np.linalg.pinv(Rx),rxy)"
   ]
  },
  {
   "cell_type": "code",
   "execution_count": 3,
   "metadata": {},
   "outputs": [
    {
     "name": "stdout",
     "output_type": "stream",
     "text": [
      "Nº erros no treino: 5\n",
      "[[53  0  0  0]\n",
      " [ 0 60  0  0]\n",
      " [ 0  0 53  0]\n",
      " [ 0  0  5 47]]\n",
      "Nº erros no teste: 32\n",
      "[[160   0   0   0]\n",
      " [  2 184   3   0]\n",
      " [  0   0 124   0]\n",
      " [  1   0  26 122]]\n"
     ]
    }
   ],
   "source": [
    "y1e=np.argmax(np.dot(W.T,X1b),axis=0)\n",
    "print('Nº erros no treino:',np.sum(y1!=y1e))\n",
    "print(confusion_matrix(y1,y1e))\n",
    "\n",
    "y2e=np.argmax(np.dot(W.T,X2b),axis=0)\n",
    "print('Nº erros no teste:',np.sum(y2!=y2e))\n",
    "print(confusion_matrix(y2,y2e))"
   ]
  },
  {
   "cell_type": "code",
   "execution_count": 4,
   "metadata": {},
   "outputs": [
    {
     "data": {
      "image/png": "[encoded data removed]",
      "text/plain": [
       "<Figure size 432x288 with 1 Axes>"
      ]
     },
     "metadata": {
      "needs_background": "light"
     },
     "output_type": "display_data"
    }
   ],
   "source": [
    "plt.plot(X2[0,y2==0],X2[1,y2==0],'.')\n",
    "plt.plot(X2[0,y2==1],X2[1,y2==1],'.')\n",
    "plt.plot(X2[0,y2==2],X2[1,y2==2],'.')\n",
    "plt.plot(X2[0,y2==3],X2[1,y2==3],'.')\n",
    "plt.plot(X2[0,y2!=y2e],X2[1,y2!=y2e],'ok',alpha=.5)\n",
    "plt.axis('scaled')\n",
    "plt.grid(True)"
   ]
  },
  {
   "cell_type": "markdown",
   "metadata": {},
   "source": [
    "<hr style=\"border:2px solid black\"> </hr>"
   ]
  },
  {
   "cell_type": "markdown",
   "metadata": {},
   "source": [
    "# Pergunta 2 - Conjunto de dados $\\texttt{MNISTsmall.p}$:\n",
    "## 1. Com os dados de treino calcule a matriz de PCA. Use o número mínimo de componentes principais de modo aos dados projetados terem 75% da variância total dos dados originais. Especifique (imprima) qual o número de componentes obtidas. \n",
    "## 2. Transforme os conjuntos de treino e teste com a transformação da alínea anterior.\n",
    "## 3. Para os dados transformados aplique a transformação LDA usando a função $\\texttt{LinearDiscriminantAnalysis}$ do $\\texttt{sklearn}$.\n",
    "## 4.  Use o classificador da alínea anterior e calcule as matrizes de confusão e o número total de erros nos dados de treino e de teste. Imprima os resultados."
   ]
  },
  {
   "cell_type": "code",
   "execution_count": 72,
   "metadata": {},
   "outputs": [
    {
     "data": {
      "text/plain": [
       "dict_keys(['foldTrain', 'trueClass', 'foldTest', 'X'])"
      ]
     },
     "execution_count": 72,
     "metadata": {},
     "output_type": "execute_result"
    }
   ],
   "source": [
    "from sklearn.discriminant_analysis import LinearDiscriminantAnalysis as LDA\n",
    "D=pickle.load(open('MNISTsmall.p','rb'))\n",
    "D.keys()"
   ]
  },
  {
   "cell_type": "code",
   "execution_count": 73,
   "metadata": {},
   "outputs": [
    {
     "name": "stdout",
     "output_type": "stream",
     "text": [
      "Nº de componentes principais: 32\n",
      "Percentagem da variância total dos dados: 0.7529636562502181\n"
     ]
    }
   ],
   "source": [
    "X=D['X']*1.\n",
    "y=D['trueClass']\n",
    "f1=D['foldTrain']\n",
    "f2=D['foldTest']\n",
    "X1=X[:,f1]\n",
    "y1=y[f1]\n",
    "X2=X[:,f2]\n",
    "y2=y[f2]\n",
    "\n",
    "Cx=np.cov(X1)\n",
    "u,V=np.linalg.eig(Cx)\n",
    "u=u.real\n",
    "V=V.real\n",
    "idx=np.argsort(-u)\n",
    "u=u[idx]\n",
    "V=V[:,idx]\n",
    "un=u/np.sum(u)\n",
    "uc=np.cumsum(un)\n",
    "print('Nº de componentes principais:',np.sum(uc<=.75))\n",
    "print('Percentagem da variância total dos dados:',uc[32])"
   ]
  },
  {
   "cell_type": "code",
   "execution_count": 65,
   "metadata": {},
   "outputs": [],
   "source": [
    "W=V[:,:32]\n",
    "X1p=np.dot(W.T,X1)\n",
    "X2p=np.dot(W.T,X2)"
   ]
  },
  {
   "cell_type": "code",
   "execution_count": 66,
   "metadata": {
    "scrolled": false
   },
   "outputs": [
    {
     "name": "stdout",
     "output_type": "stream",
     "text": [
      "(9, 10000) (9, 5000)\n"
     ]
    }
   ],
   "source": [
    "lda=LDA().fit(X1p.T,y1)\n",
    "\n",
    "X1pp=lda.transform(X1p.T).T\n",
    "X2pp=lda.transform(X2p.T).T\n",
    "print(X1pp.shape,X2pp.shape)"
   ]
  },
  {
   "cell_type": "code",
   "execution_count": 67,
   "metadata": {},
   "outputs": [
    {
     "name": "stdout",
     "output_type": "stream",
     "text": [
      "Treino:\n",
      "Nº de erros: 1423\n",
      "[[914   0   6   7   2  35  20   2  10   4]\n",
      " [  0 965   3   0   1   9   0   2  17   3]\n",
      " [  9  57 801  23  20   8  19  13  36  14]\n",
      " [  0  25  31 816   1  53   9  21  17  27]\n",
      " [  0  10   7   0 847   4  12   1  10 109]\n",
      " [ 15  10   4  54  12 831  19   3  39  13]\n",
      " [ 10  19   8   1  13  31 913   0   5   0]\n",
      " [  4  33   7   5  31   2   0 860   3  55]\n",
      " [  9  50  12  43  11  59  12   4 771  29]\n",
      " [  9  10   5  10  47  11   2  37  10 859]]\n",
      "Teste:\n",
      "Nº de erros: 899\n",
      "[[458   0   1   1   1  19  17   0   3   0]\n",
      " [  0 483   2   3   1   3   2   1   5   0]\n",
      " [  4  46 368  18   7   3   7  15  29   3]\n",
      " [  2   5   7 402   2  44   5  14  12   7]\n",
      " [  1   4   3   0 395   3   9   1   5  79]\n",
      " [ 10   4   0  29  11 396  13   8  16  13]\n",
      " [ 11  10   3   0  15  28 427   1   3   2]\n",
      " [  1  40  13   2  13   1   0 394   5  31]\n",
      " [  6  29   4  27  10  36   5  10 360  13]\n",
      " [  4  11   3   9  26  10   2  14   3 418]]\n"
     ]
    }
   ],
   "source": [
    "y1e=lda.predict(X1p.T)\n",
    "y2e=lda.predict(X2p.T)\n",
    "print('Treino:')\n",
    "print('Nº de erros:',np.sum(y1!=y1e))\n",
    "print(confusion_matrix(y1,y1e))\n",
    "print('Teste:')\n",
    "print('Nº de erros:',np.sum(y2!=y2e))\n",
    "print(confusion_matrix(y2,y2e))"
   ]
  },
  {
   "cell_type": "code",
   "execution_count": null,
   "metadata": {},
   "outputs": [],
   "source": []
  }
 ],
 "metadata": {
  "kernelspec": {
   "display_name": "Python 3",
   "language": "python",
   "name": "python3"
  },
  "language_info": {
   "codemirror_mode": {
    "name": "ipython",
    "version": 3
   },
   "file_extension": ".py",
   "mimetype": "text/x-python",
   "name": "python",
   "nbconvert_exporter": "python",
   "pygments_lexer": "ipython3",
   "version": "3.6.9"
  }
 },
 "nbformat": 4,
 "nbformat_minor": 4
}
