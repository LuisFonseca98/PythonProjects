{
 "cells": [
  {
   "cell_type": "markdown",
   "metadata": {},
   "source": [
    "## LAB2: Classificadores baseados em distâncias entre pontos"
   ]
  },
  {
   "cell_type": "markdown",
   "metadata": {},
   "source": [
    "<hr style=\"border:1px  solid black\"> </hr>"
   ]
  },
  {
   "cell_type": "markdown",
   "metadata": {},
   "source": [
    "### (Preencher)\n",
    "## Nome: Luís Fonseca\n",
    "## Número: 45125"
   ]
  },
  {
   "cell_type": "markdown",
   "metadata": {},
   "source": [
    "<hr style=\"border:1px  solid black\"> </hr>"
   ]
  },
  {
   "cell_type": "markdown",
   "metadata": {},
   "source": [
    "## Desenvolva e corra o código pedido nas células imediatamente abaixo das perguntas."
   ]
  },
  {
   "cell_type": "markdown",
   "metadata": {},
   "source": [
    "# IMPORTANTE:\n",
    "## Uma vez completado, grave este Jupyter notebook com o seguinte nome:\n",
    "## Axxxxx-Lab2.ipynb (Axxxxx: número de aluno)\n",
    "##  e depois submeta o ficheiro no link do Moodle providenciado para o efeito."
   ]
  },
  {
   "cell_type": "markdown",
   "metadata": {},
   "source": [
    "<hr style=\"border:2px solid black\"> </hr>"
   ]
  },
  {
   "cell_type": "markdown",
   "metadata": {},
   "source": [
    "## Considere o ficheiro pickle $\\texttt{Lab2Data.p}$\n",
    "### Neste ficheiro encontra-se um dicionário de Python com as seguintes variáveis:\n",
    "### 1. \"X\":             dados bi-dimensionais (840 amostras)\n",
    "### 2. \"y\":              classe dos dados (inteiros de 0 a 3)\n",
    "### 3. \"foldTrain\": array boleano indicando os dados a serem usados para treinar os classificadores\n",
    "### 3. \"foldTest\": array boleano indicando os dados a serem usados para testar os classificadores\n"
   ]
  },
  {
   "cell_type": "markdown",
   "metadata": {},
   "source": [
    "<hr style=\"border:2px solid black\"> </hr>"
   ]
  },
  {
   "cell_type": "markdown",
   "metadata": {},
   "source": [
    "# Pergunta 1 - Classificadores da distância ao centroide:\n",
    "## 1. Use os dados de treino para estimar os centroides de cada classe. Imprima os valores obtidos para cada classe, indicando a classe em questão.\n",
    "## 2. Com a métrica de distância euclideana, calcule a matriz de confusão e o número total de erros nos dados de teste.\n",
    "## 3. Com a métrica de distância de cosseno, calcule a matriz de confusão e o número total de erros nos dados de teste."
   ]
  },
  {
   "cell_type": "code",
   "execution_count": 1,
   "metadata": {},
   "outputs": [
    {
     "name": "stdout",
     "output_type": "stream",
     "text": [
      "Pergunta 1:  dict_keys(['X', 'y', 'foldTrain', 'foldTest'])\n",
      "Classe 0 Média:  [ 5.14228406 -3.01407307]\n",
      "Classe 1 Média:  [-3.25743758 -2.53544477]\n",
      "Classe 2 Média:  [-1.68691942  1.46970542]\n",
      "Classe 3 Média:  [0.11366889 5.28098864]\n",
      "\n",
      "Matriz e número total de erros\n",
      "[[53  0  0  0]\n",
      " [ 0 60  0  0]\n",
      " [ 0 10 41  2]\n",
      " [ 0  0  2 50]]\n",
      "Número total de erros: 14\n",
      "Probabilidade total de erros: 1.6666666666666667 %\n"
     ]
    },
    {
     "ename": "NameError",
     "evalue": "name 'spd' is not defined",
     "output_type": "error",
     "traceback": [
      "\u001b[1;31m---------------------------------------------------------------------------\u001b[0m",
      "\u001b[1;31mNameError\u001b[0m                                 Traceback (most recent call last)",
      "\u001b[1;32m<ipython-input-1-e0dbc0e20302>\u001b[0m in \u001b[0;36m<module>\u001b[1;34m\u001b[0m\n\u001b[0;32m     53\u001b[0m \u001b[0mprint\u001b[0m\u001b[1;33m(\u001b[0m\u001b[1;34m\"Probabilidade total de erros:\"\u001b[0m\u001b[1;33m,\u001b[0m \u001b[1;33m(\u001b[0m\u001b[0mnp\u001b[0m\u001b[1;33m.\u001b[0m\u001b[0msum\u001b[0m\u001b[1;33m(\u001b[0m\u001b[0my1\u001b[0m\u001b[1;33m!=\u001b[0m\u001b[0my1e\u001b[0m\u001b[1;33m)\u001b[0m\u001b[1;33m/\u001b[0m\u001b[1;36m840\u001b[0m\u001b[1;33m)\u001b[0m\u001b[1;33m*\u001b[0m\u001b[1;36m100\u001b[0m\u001b[1;33m,\u001b[0m \u001b[1;34m\"%\"\u001b[0m\u001b[1;33m)\u001b[0m\u001b[1;33m\u001b[0m\u001b[1;33m\u001b[0m\u001b[0m\n\u001b[0;32m     54\u001b[0m \u001b[1;33m\u001b[0m\u001b[0m\n\u001b[1;32m---> 55\u001b[1;33m \u001b[0mDc\u001b[0m \u001b[1;33m=\u001b[0m \u001b[0mspd\u001b[0m\u001b[1;33m.\u001b[0m\u001b[0msquareform\u001b[0m\u001b[1;33m(\u001b[0m\u001b[0mspd\u001b[0m\u001b[1;33m.\u001b[0m\u001b[0mpdist\u001b[0m\u001b[1;33m(\u001b[0m\u001b[0mX1\u001b[0m\u001b[1;33m.\u001b[0m\u001b[0mT\u001b[0m\u001b[1;33m,\u001b[0m \u001b[1;34m'cosine'\u001b[0m\u001b[1;33m)\u001b[0m\u001b[1;33m)\u001b[0m\u001b[1;33m\u001b[0m\u001b[1;33m\u001b[0m\u001b[0m\n\u001b[0m\u001b[0;32m     56\u001b[0m \u001b[0my1e\u001b[0m \u001b[1;33m=\u001b[0m \u001b[0mnp\u001b[0m\u001b[1;33m.\u001b[0m\u001b[0margmin\u001b[0m\u001b[1;33m(\u001b[0m\u001b[0mDc\u001b[0m\u001b[1;33m,\u001b[0m \u001b[0maxis\u001b[0m\u001b[1;33m=\u001b[0m\u001b[1;36m0\u001b[0m\u001b[1;33m)\u001b[0m\u001b[1;33m\u001b[0m\u001b[1;33m\u001b[0m\u001b[0m\n\u001b[0;32m     57\u001b[0m \u001b[1;33m\u001b[0m\u001b[0m\n",
      "\u001b[1;31mNameError\u001b[0m: name 'spd' is not defined"
     ]
    },
    {
     "data": {
      "image/png": "[encoded data removed]",
      "text/plain": [
       "<Figure size 432x288 with 1 Axes>"
      ]
     },
     "metadata": {
      "needs_background": "light"
     },
     "output_type": "display_data"
    }
   ],
   "source": [
    "import numpy as np\n",
    "import matplotlib.pyplot as plt\n",
    "from sklearn.metrics import confusion_matrix\n",
    "import pickle\n",
    "\n",
    "fName = 'Lab2Data.p'\n",
    "D = pickle.load(open(fName, 'rb'))\n",
    "\n",
    "print(\"Pergunta 1: \",D.keys())\n",
    "\n",
    "X = D['X']\n",
    "y = D['y']\n",
    "f1 = D['foldTrain']\n",
    "f2 = D['foldTest']\n",
    "\n",
    "plt.plot(X[0,y==0],X[1,y==0],'.')\n",
    "plt.plot(X[0,y==1],X[1,y==1],'.')\n",
    "plt.plot(X[0,y==2],X[1,y==2],'.')\n",
    "plt.plot(X[0,y==3],X[1,y==3],'.')\n",
    "plt.axis('scaled')\n",
    "plt.grid(True)\n",
    "\n",
    "X1 = X[:, f1]\n",
    "y1 = y[f1]\n",
    "\n",
    "X2 = X[:, f2]\n",
    "y2 = y[f2]\n",
    "\n",
    "m0 = np.mean(X1[:, y1==0], axis=1)\n",
    "m1 = np.mean(X1[:, y1==1], axis=1)\n",
    "m2 = np.mean(X1[:, y1==2], axis=1)\n",
    "m3 = np.mean(X1[:, y1==3], axis=1)\n",
    "\n",
    "print(\"Classe 0 Média: \",m0)\n",
    "print(\"Classe 1 Média: \",m1)\n",
    "print(\"Classe 2 Média: \",m2)\n",
    "print(\"Classe 3 Média: \",m3)\n",
    "print()\n",
    "\n",
    "\n",
    "D0 = np.sqrt(np.sum((X1-m0[:,np.newaxis])**2, axis=0))\n",
    "D1 = np.sqrt(np.sum((X1-m1[:,np.newaxis])**2, axis=0))\n",
    "D2 = np.sqrt(np.sum((X1-m2[:,np.newaxis])**2, axis=0))\n",
    "D3 = np.sqrt(np.sum((X1-m3[:,np.newaxis])**2, axis=0))\n",
    "\n",
    "D = np.vstack((D0, D1, D2, D3))\n",
    "y1e = np.argmin(D, axis=0)\n",
    "\n",
    "MC = confusion_matrix(y1, y1e)\n",
    "print(\"Matriz e número total de erros\")\n",
    "print(MC)\n",
    "print(\"Número total de erros:\", np.sum(y1!=y1e))\n",
    "print(\"Probabilidade total de erros:\", (np.sum(y1!=y1e)/840)*100, \"%\")\n",
    "\n",
    "Dc = spd.squareform(spd.pdist(X1.T, 'cosine'))\n",
    "y1e = np.argmin(Dc, axis=0)\n",
    "\n",
    "MC = confusion_matrix(y1, y1e)\n",
    "print(MC)\n",
    "print(\"Número total de erros:\", np.sum(y1!=y1e))\n",
    "print(\"Probabilidade total de erros:\", (np.sum(y1!=y1e)/840)*100, \"%\")"
   ]
  },
  {
   "cell_type": "markdown",
   "metadata": {},
   "source": [
    "# Pergunta 2 - Classificadores dos k-vizinhos mais próximos:\n",
    "## (Use os dados de treino nestes classificadores)\n",
    "## 1. Para k=1, calcule a matriz de confusão e o número total de erros nos dados de teste. \n",
    "## 2. Faça um plot dos dados de teste por classe e dos erros cometidos por este classificador.\n",
    "## 3. Repita as duas alíneas anteriores para k=5"
   ]
  },
  {
   "cell_type": "code",
   "execution_count": null,
   "metadata": {},
   "outputs": [],
   "source": [
    "from sklearn.neighbors import KNeighborsClassifier\n",
    "\n",
    "X1 = X[:, f1].T\n",
    "X2 = X[:, f2].T\n",
    "\n",
    "y1 = y[f1]\n",
    "y2 = y[f2]\n",
    "\n",
    "plt.plot(y1)\n",
    "plt.show()\n",
    "\n",
    "print(\"Com 1 vizinho:\")\n",
    "print()\n",
    "knn = KNeighborsClassifier(n_neighbors=1).fit(X1, y1)\n",
    "y2e = knn.predict(X2)\n",
    "print(np.sum(y2e!=y2), \"Erros\")\n",
    "print(confusion_matrix(y2, y2e))\n",
    "print()\n",
    "\n",
    "plt.plot(X2.T[0,y2==0] ,X2.T[1,y2==0], '.')\n",
    "plt.plot(X2.T[0,y2==1] ,X2.T[1,y2==1], '.')\n",
    "plt.plot(X2.T[0,y2==2] ,X2.T[1,y2==2], '.')\n",
    "plt.plot(X2.T[0,y2==3] ,X2.T[1,y2==3], '.')\n",
    "plt.plot(X2[y2!=y2e,0],X2[y2!=y2e,1], 'ok', alpha=.3)\n",
    "plt.show()\n",
    "\n",
    "print(\"Com 5 vizinhos:\")\n",
    "print()\n",
    "knn = KNeighborsClassifier(n_neighbors=5).fit(X1, y1)\n",
    "y2e = knn.predict(X2)\n",
    "print(np.sum(y2e!=y2), \"Erros\")\n",
    "print(confusion_matrix(y2, y2e))\n",
    "print()\n",
    "\n",
    "plt.plot(X2.T[0,y2==0] ,X2.T[1,y2==0], '.')\n",
    "plt.plot(X2.T[0,y2==1] ,X2.T[1,y2==1], '.')\n",
    "plt.plot(X2.T[0,y2==2] ,X2.T[1,y2==2], '.')\n",
    "plt.plot(X2.T[0,y2==3] ,X2.T[1,y2==3], '.')\n",
    "plt.plot(X2[y2!=y2e,0],X2[y2!=y2e,1], 'ok', alpha=.3)\n",
    "plt.show()"
   ]
  },
  {
   "cell_type": "code",
   "execution_count": null,
   "metadata": {},
   "outputs": [],
   "source": []
  }
 ],
 "metadata": {
  "kernelspec": {
   "display_name": "Python 3",
   "language": "python",
   "name": "python3"
  },
  "language_info": {
   "codemirror_mode": {
    "name": "ipython",
    "version": 3
   },
   "file_extension": ".py",
   "mimetype": "text/x-python",
   "name": "python",
   "nbconvert_exporter": "python",
   "pygments_lexer": "ipython3",
   "version": "3.8.3"
  }
 },
 "nbformat": 4,
 "nbformat_minor": 4
}
