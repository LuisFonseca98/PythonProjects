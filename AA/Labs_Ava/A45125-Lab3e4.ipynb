{
 "cells": [
  {
   "cell_type": "markdown",
   "metadata": {},
   "source": [
    "# LAB3 e LAb4: PCA, LDA e modelos polinomiais"
   ]
  },
  {
   "cell_type": "markdown",
   "metadata": {},
   "source": [
    "<hr style=\"border:1px  solid black\"> </hr>"
   ]
  },
  {
   "cell_type": "markdown",
   "metadata": {},
   "source": [
    "### (Preencher)\n",
    "## Nome: Luís Fonseca\n",
    "## Número: 45125"
   ]
  },
  {
   "cell_type": "markdown",
   "metadata": {},
   "source": [
    "<hr style=\"border:1px  solid black\"> </hr>"
   ]
  },
  {
   "cell_type": "markdown",
   "metadata": {},
   "source": [
    "## Desenvolva e corra o código pedido nas células imediatamente abaixo das perguntas."
   ]
  },
  {
   "cell_type": "markdown",
   "metadata": {},
   "source": [
    "# IMPORTANTE:\n",
    "## Uma vez completado, grave este Jupyter notebook com o seguinte nome:\n",
    "## Axxxxx-Lab3e4.ipynb (Axxxxx: número de aluno)\n",
    "##  e depois submeta o ficheiro no link do Moodle providenciado para o efeito."
   ]
  },
  {
   "cell_type": "markdown",
   "metadata": {},
   "source": [
    "<hr style=\"border:2px solid black\"> </hr>"
   ]
  },
  {
   "cell_type": "markdown",
   "metadata": {},
   "source": [
    "## Considere o ficheiro pickle $\\texttt{Lab3e4Data.p}$\n",
    "### Neste ficheiro encontra-se um dicionário de Python com as seguintes variáveis:\n",
    "### 1. \"X\":             dados bi-dimensionais (840 amostras)\n",
    "### 2. \"y\":              classe dos dados (inteiros de 0 a 3)\n",
    "### 3. \"foldTrain\": array boleano indicando os dados a serem usados para treinar os classificadores\n",
    "### 3. \"foldTest\": array boleano indicando os dados a serem usados para testar os classificadores\n"
   ]
  },
  {
   "cell_type": "markdown",
   "metadata": {},
   "source": [
    "# Pergunta 1 - Discriminantes polinomiais:\n",
    "## 1. Use os dados de treino para estimar discriminante polinomial de 4ª ordem.\n",
    "## 2. Calcule as matrizes de confusão e o número total de erros nos dados de treino e de teste. Imprima os resultados.\n",
    "## 3. Faça um \"plot\" dos dados de teste por classe, e dos erros do discriminante polinomial."
   ]
  },
  {
   "cell_type": "code",
   "execution_count": 1,
   "metadata": {},
   "outputs": [
    {
     "name": "stdout",
     "output_type": "stream",
     "text": [
      "dict_keys(['X', 'y', 'foldTrain', 'foldTest'])\n"
     ]
    }
   ],
   "source": [
    "import numpy as np\n",
    "import matplotlib.pyplot as plt\n",
    "import pickle\n",
    "from sklearn.metrics import confusion_matrix\n",
    "from sklearn.linear_model import LinearRegression\n",
    "from sklearn.preprocessing import PolynomialFeatures\n",
    "\n",
    "D=pickle.load(open('Lab3e4Data.p','rb'))\n",
    "print(D.keys())\n",
    "\n",
    "X = D['X']\n",
    "y = D['y']\n",
    "f1 = D['foldTrain']\n",
    "f2 = D['foldTest']\n",
    "\n",
    "X1 = X[:, f1].T\n",
    "X2 = X[:, f2].T\n",
    "y1 = y[f1]\n",
    "y2 = y[f2]\n",
    "\n",
    "poly = PolynomialFeatures(degree=4,include_bias=False).fit(X1)\n",
    "X1a = poly.transform(X1)\n",
    "X2a = poly.transform(X2)\n",
    "\n",
    "rl = LinearRegression().fit(X1a, y1)\n",
    "yea = np.round(abs(rl.predict(X1a)))\n",
    "yeb = np.round(abs(rl.predict(X2a)))"
   ]
  },
  {
   "cell_type": "code",
   "execution_count": 2,
   "metadata": {},
   "outputs": [
    {
     "name": "stdout",
     "output_type": "stream",
     "text": [
      "Erros no treino: 15\n",
      "Matriz de Confusão de Treino:\n",
      " [[51  2  0  0]\n",
      " [ 0 60  0  0]\n",
      " [ 0  5 44  4]\n",
      " [ 0  0  4 48]]\n",
      "Erros no teste: 47\n",
      "Matriz de Confusão de Teste:\n",
      " [[154   6   0   0   0]\n",
      " [  1 188   0   0   0]\n",
      " [  0  13 104   7   0]\n",
      " [  0   1  16 129   3]\n",
      " [  0   0   0   0   0]]\n"
     ]
    }
   ],
   "source": [
    "cm_treino = confusion_matrix(y1, yea)\n",
    "\n",
    "print('Erros no treino:', sum(y1!=yea))\n",
    "print('Matriz de Confusão de Treino:\\n', cm_treino)\n",
    "\n",
    "cm_teste = confusion_matrix(y2, yeb)\n",
    "\n",
    "print('Erros no teste:', sum(y2!=yeb))\n",
    "print('Matriz de Confusão de Teste:\\n', cm_teste)"
   ]
  },
  {
   "cell_type": "code",
   "execution_count": 3,
   "metadata": {},
   "outputs": [
    {
     "data": {
      "image/png": "[encoded data removed]",
      "text/plain": [
       "<Figure size 432x288 with 1 Axes>"
      ]
     },
     "metadata": {
      "needs_background": "light"
     },
     "output_type": "display_data"
    }
   ],
   "source": [
    "plt.plot(X2[y2==0,0], X2[y2==0,1], '.r')\n",
    "plt.plot(X2[y2==1,0], X2[y2==1,1], '.g')\n",
    "plt.plot(X2[y2==2,0], X2[y2==2,1], '.b')\n",
    "plt.plot(X2[y2==3,0], X2[y2==3,1], '.c')\n",
    "plt.plot(X2[y2!=yeb,0], X2[y2!=yeb,1], 'ok', alpha=.5)\n",
    "plt.axis('scaled')\n",
    "plt.grid()"
   ]
  },
  {
   "cell_type": "code",
   "execution_count": null,
   "metadata": {},
   "outputs": [],
   "source": []
  },
  {
   "cell_type": "markdown",
   "metadata": {},
   "source": [
    "<hr style=\"border:2px solid black\"> </hr>"
   ]
  },
  {
   "cell_type": "markdown",
   "metadata": {},
   "source": [
    "# Pergunta 2 - Conjunto de dados $\\texttt{MNISTsmall.p}$:\n",
    "## 1. Com os dados de treino calcule a matriz de PCA. Use o número mínimo de componentes principais de modo aos dados projetados terem 75% da variância total dos dados originais. Especifique (imprima) qual o número de componentes obtidas. \n",
    "## 2. Transforme os conjuntos de treino e teste com a transformação da alínea anterior.\n",
    "## 3. Para os dados transformados aplique a transformação LDA usando a função $\\texttt{LinearDiscriminantAnalysis}$ do $\\texttt{sklearn}$.\n",
    "## 4.  Use o classificador da alínea anterior e calcule as matrizes de confusão e o número total de erros nos dados de treino e de teste. Imprima os resultados."
   ]
  },
  {
   "cell_type": "code",
   "execution_count": 4,
   "metadata": {},
   "outputs": [
    {
     "name": "stdout",
     "output_type": "stream",
     "text": [
      "Número de componentes:  32 \n",
      "\n"
     ]
    }
   ],
   "source": [
    "import scipy.linalg as la\n",
    "D=pickle.load(open('MNISTsmall.p','rb'))\n",
    "X = D['X']*1.\n",
    "y = D['trueClass']\n",
    "f1 = D['foldTrain']\n",
    "f2 = D['foldTest']\n",
    "X1 = np.vstack((np.ones(10000), X[:,f1]))\n",
    "X2 = np.vstack((np.ones(5000), X[:, f2]))\n",
    "y1 = y[f1]\n",
    "y2 = y[f2]\n",
    "\n",
    "Cx=np.cov(X1)\n",
    "\n",
    "v, W = la.eig(Cx)\n",
    "\n",
    "idx=np.argsort(-v)\n",
    "v=v[idx]\n",
    "v = v.real\n",
    "\n",
    "W=W[:, idx]\n",
    "W=W.real\n",
    "\n",
    "v = v/np.sum(v)\n",
    "L = np.cumsum(v)\n",
    "    \n",
    "print('Número de componentes: ', np.sum(L<=0.75),'\\n')"
   ]
  },
  {
   "cell_type": "code",
   "execution_count": 5,
   "metadata": {},
   "outputs": [
    {
     "name": "stdout",
     "output_type": "stream",
     "text": [
      "(785, 10000)\n",
      "(785, 5000)\n"
     ]
    }
   ],
   "source": [
    "setentaCincoPorcento = np.sum(L <= 0.75) + 1\n",
    "        \n",
    "W=W[:,0:setentaCincoPorcento]\n",
    "\n",
    "Y1=np.dot(W.T,X1)\n",
    "Y2 = np.dot(W.T,X2)\n",
    "Xr1 = np.dot(W,Y1)\n",
    "Xr2 = np.dot(W,Y2)\n",
    "print(Xr1.shape)\n",
    "print(Xr2.shape)\n"
   ]
  },
  {
   "cell_type": "code",
   "execution_count": null,
   "metadata": {},
   "outputs": [],
   "source": []
  },
  {
   "cell_type": "code",
   "execution_count": null,
   "metadata": {},
   "outputs": [],
   "source": []
  }
 ],
 "metadata": {
  "kernelspec": {
   "display_name": "Python 3",
   "language": "python",
   "name": "python3"
  },
  "language_info": {
   "codemirror_mode": {
    "name": "ipython",
    "version": 3
   },
   "file_extension": ".py",
   "mimetype": "text/x-python",
   "name": "python",
   "nbconvert_exporter": "python",
   "pygments_lexer": "ipython3",
   "version": "3.8.3"
  }
 },
 "nbformat": 4,
 "nbformat_minor": 4
}
