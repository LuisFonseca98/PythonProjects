{
 "cells": [
  {
   "cell_type": "markdown",
   "metadata": {},
   "source": [
    "## LAB1: Gerações, representações e transformações de dados multivariados"
   ]
  },
  {
   "cell_type": "markdown",
   "metadata": {},
   "source": [
    "<hr style=\"border:1px  solid black\"> </hr>"
   ]
  },
  {
   "cell_type": "markdown",
   "metadata": {},
   "source": [
    "### (Preencher)\n",
    "## Nome: Luís Fonseca\n",
    "## Número: 45125"
   ]
  },
  {
   "cell_type": "markdown",
   "metadata": {},
   "source": [
    "<hr style=\"border:1px  solid black\"> </hr>"
   ]
  },
  {
   "cell_type": "markdown",
   "metadata": {},
   "source": [
    "## Desenvolva e corra o código pedido nas células imediatamente abaixo das perguntas."
   ]
  },
  {
   "cell_type": "markdown",
   "metadata": {},
   "source": [
    "# IMPORTANTE:\n",
    "## Uma vez completado, grave este Jupyter notebook com o seguinte nome:\n",
    "## Axxxxx-Lab1.ipynb (Axxxxx: número de aluno)\n",
    "##  e depois submeta o ficheiro no link do Moodle providenciado para o efeito.\n",
    "# Ficheiros que não se encontrem em conformidade com o formato especificado não serão corrigidos!"
   ]
  },
  {
   "cell_type": "markdown",
   "metadata": {},
   "source": [
    "<hr style=\"border:2px solid black\"> </hr>"
   ]
  },
  {
   "cell_type": "markdown",
   "metadata": {},
   "source": [
    "# Pergunta 1:\n",
    "## 1. Gere 100000 (cem mil) pontos a duas dimensões, uniformemente distribuídos entre [-1,+1] em ambas as dimensões. Os pontos gerados deverão estar numa matrix \"X\" de 2x100000.\n",
    "## 2. Visualize os pontos gerados. Certifique-se que no gráfico, ambas as dimensões se encontram na mesma escala (plt.axis('scaled'))"
   ]
  },
  {
   "cell_type": "code",
   "execution_count": 2,
   "metadata": {},
   "outputs": [
    {
     "data": {
      "image/png": "[encoded data removed]",
      "text/plain": [
       "<Figure size 504x360 with 1 Axes>"
      ]
     },
     "metadata": {
      "needs_background": "light"
     },
     "output_type": "display_data"
    }
   ],
   "source": [
    "import numpy as np\n",
    "from matplotlib import pyplot as plt\n",
    "\n",
    "N = 100000\n",
    "np.random.seed(0);X=np.random.rand(2,N)\n",
    "\n",
    "plt.figure(figsize=(7,5))\n",
    "plt.plot(X[0,:],X[1,:],'.b',markersize=4)\n",
    "plt.axis('scaled')\n",
    "plt.grid()\n",
    "plt.xlabel('Eixo X',fontsize=16)\n",
    "plt.ylabel('Eixo Y',fontsize=16)\n",
    "plt.show()\n",
    "\n"
   ]
  },
  {
   "cell_type": "markdown",
   "metadata": {},
   "source": [
    "# Pergunta 2:\n",
    "## 1. Através duma transformação matricial do tipo $X2=A\\times X$ (A matriz de 2x2), escale a primeira dimensão dos dados por um fator de 1.5, e a segunda por um fator de 0.75.\n",
    "## 2. Através duma transformação matricial do tipo $X3=B\\times X2$ (B matriz de 2x2), faça uma rotação aos dados da matrix X2, de 30 graus no sentido dos ponteiros do relógio.\n",
    "## 3. Visualize os pontos gerados (matriz X3). Certifique-se que no gráfico, ambas as dimensões se encontram na mesma escala. "
   ]
  },
  {
   "cell_type": "code",
   "execution_count": 3,
   "metadata": {},
   "outputs": [
    {
     "data": {
      "image/png": "[encoded data removed]",
      "text/plain": [
       "<Figure size 432x288 with 1 Axes>"
      ]
     },
     "metadata": {
      "needs_background": "light"
     },
     "output_type": "display_data"
    }
   ],
   "source": [
    "A=np.array([[1.5,0],[0,0.75]])\n",
    "X2=np.dot(A,X)\n",
    "\n",
    "N=30\n",
    "ang=np.arange(-np.pi,2.*np.pi,3.*np.pi/N)\n",
    "for a in ang:\n",
    "    B = np.array([[np.cos(a),-np.sin(a)],[np.sin(a),np.cos(a)]])\n",
    "    X3 = np.dot(B,X2)\n",
    "    \n",
    "\n",
    "plt.plot(X3[0,:],X3[1,:],'.b',markersize=4)\n",
    "plt.axis('scaled')\n",
    "plt.grid()\n",
    "plt.xlabel('$x_1$',fontsize=16);plt.ylabel('$x_2$',fontsize=16)\n",
    "plt.show()\n"
   ]
  },
  {
   "cell_type": "markdown",
   "metadata": {},
   "source": [
    "# Pergunta 3:\n",
    "## Faça os histogramas de cada dimensão dos dados da matriz X3. Certifique-se que o número de intervalos é apropriado, e a sua largura também, para uma boa visualização dos mesmos."
   ]
  },
  {
   "cell_type": "code",
   "execution_count": 4,
   "metadata": {},
   "outputs": [
    {
     "data": {
      "image/png": "[encoded data removed]",
      "text/plain": [
       "<Figure size 432x288 with 1 Axes>"
      ]
     },
     "metadata": {
      "needs_background": "light"
     },
     "output_type": "display_data"
    }
   ],
   "source": [
    "n1, bins1, p1 = plt.hist(X3[0,:], 100, density=True, alpha=0.75)\n",
    "n2, bins2, p2 = plt.hist(X3[1,:], 100, density=True, alpha=0.75)\n",
    "plt.grid(True)\n",
    "plt.show()"
   ]
  },
  {
   "cell_type": "code",
   "execution_count": null,
   "metadata": {},
   "outputs": [],
   "source": []
  },
  {
   "cell_type": "code",
   "execution_count": null,
   "metadata": {},
   "outputs": [],
   "source": []
  }
 ],
 "metadata": {
  "kernelspec": {
   "display_name": "Python 3",
   "language": "python",
   "name": "python3"
  },
  "language_info": {
   "codemirror_mode": {
    "name": "ipython",
    "version": 3
   },
   "file_extension": ".py",
   "mimetype": "text/x-python",
   "name": "python",
   "nbconvert_exporter": "python",
   "pygments_lexer": "ipython3",
   "version": "3.8.3"
  }
 },
 "nbformat": 4,
 "nbformat_minor": 4
}
